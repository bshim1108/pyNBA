{
 "cells": [
  {
   "cell_type": "code",
   "execution_count": 45,
   "metadata": {},
   "outputs": [],
   "source": [
    "import requests\n",
    "from bs4 import BeautifulSoup"
   ]
  },
  {
   "cell_type": "code",
   "execution_count": 46,
   "metadata": {},
   "outputs": [],
   "source": [
    "URL = 'https://www.numberfire.com/nba/daily-fantasy/daily-basketball-projections'\n",
    "page = requests.get(URL)\n",
    "soup = BeautifulSoup(page.content, 'html.parser')"
   ]
  },
  {
   "cell_type": "code",
   "execution_count": 65,
   "metadata": {},
   "outputs": [],
   "source": [
    "all_players = soup.find_all('tr', {'data-sport-path': 'nba'})"
   ]
  },
  {
   "cell_type": "code",
   "execution_count": 66,
   "metadata": {},
   "outputs": [],
   "source": [
    "player = all_players[0]"
   ]
  },
  {
   "cell_type": "code",
   "execution_count": 71,
   "metadata": {},
   "outputs": [],
   "source": [
    "name = player.find('a', {'class': 'full'}).text.strip()"
   ]
  },
  {
   "cell_type": "code",
   "execution_count": 72,
   "metadata": {},
   "outputs": [
    {
     "data": {
      "text/plain": [
       "'Russell Westbrook'"
      ]
     },
     "execution_count": 72,
     "metadata": {},
     "output_type": "execute_result"
    }
   ],
   "source": [
    "name"
   ]
  },
  {
   "cell_type": "code",
   "execution_count": 73,
   "metadata": {},
   "outputs": [],
   "source": [
    "name = float(player.find('td', {'class': 'min'}).text.strip())"
   ]
  },
  {
   "cell_type": "code",
   "execution_count": 74,
   "metadata": {},
   "outputs": [
    {
     "data": {
      "text/plain": [
       "'36.20'"
      ]
     },
     "execution_count": 74,
     "metadata": {},
     "output_type": "execute_result"
    }
   ],
   "source": [
    "name"
   ]
  },
  {
   "cell_type": "code",
   "execution_count": 64,
   "metadata": {
    "scrolled": false
   },
   "outputs": [
    {
     "name": "stdout",
     "output_type": "stream",
     "text": [
      "<tr class=\"\" data-player-id=\"397\" data-row-index=\"1\" data-sport-path=\"nba\">\n",
      "<td class=\"team-player cta left-aligned\" data-player-id=\"397\">\n",
      "<i class=\"nf-icon icon-locked\" data-player-id=\"397\" data-sport-path=\"nba\"></i>\n",
      "<i class=\"nf-icon icon-exclude\" data-player-id=\"397\" data-sport-path=\"nba\"></i>\n",
      "<span class=\"player-info\">\n",
      "<a class=\"abbrev\" href=\"/nba/players/russell-westbrook\">\n",
      "                                    R. Westbrook                                </a>\n",
      "<a class=\"full\" href=\"/nba/players/russell-westbrook\">\n",
      "                                    Russell Westbrook                                </a>\n",
      "<span class=\"player-info--position\">PG</span>\n",
      "<div class=\"player-info--game-info\">\n",
      "<span class=\"team-player__team active\">\n",
      "                                        WSH                                    </span>\n",
      "                                         @ \n",
      "                                    <span class=\"team-player__team\">\n",
      "                                        NY                                    </span>\n",
      "<span class=\"gametime\">\n",
      "                                        Thu 7:30pm                                    </span>\n",
      "</div>\n",
      "</span>\n",
      "</td>\n",
      "<td class=\"fp active\">\n",
      "                            50.1                        </td>\n",
      "<td class=\"cost\">\n",
      "                            $11,100                        </td>\n",
      "<td class=\"value\">\n",
      "                            4.51                        </td>\n",
      "<td class=\"min\">\n",
      "                            36.20                        </td>\n",
      "<td class=\"pts\">\n",
      "                            23.4                        </td>\n",
      "<td class=\"reb\">\n",
      "                            8.8                        </td>\n",
      "<td class=\"ast\">\n",
      "                            10.9                        </td>\n",
      "<td class=\"stl\">\n",
      "                            1.2                        </td>\n",
      "<td class=\"blk\">\n",
      "                            0.3                        </td>\n",
      "<td class=\"to\">\n",
      "                            4.7                        </td>\n",
      "</tr>\n"
     ]
    }
   ],
   "source": [
    "print(all_players[0])"
   ]
  },
  {
   "cell_type": "code",
   "execution_count": null,
   "metadata": {},
   "outputs": [],
   "source": []
  }
 ],
 "metadata": {
  "kernelspec": {
   "display_name": "venv",
   "language": "python",
   "name": "venv"
  },
  "language_info": {
   "codemirror_mode": {
    "name": "ipython",
    "version": 3
   },
   "file_extension": ".py",
   "mimetype": "text/x-python",
   "name": "python",
   "nbconvert_exporter": "python",
   "pygments_lexer": "ipython3",
   "version": "3.7.3"
  }
 },
 "nbformat": 4,
 "nbformat_minor": 4
}

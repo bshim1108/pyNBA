{
 "cells": [
  {
   "cell_type": "code",
   "execution_count": 1,
   "metadata": {},
   "outputs": [
    {
     "data": {
      "text/html": [
       "<style>.container { width:90% !important; }</style>"
      ],
      "text/plain": [
       "<IPython.core.display.HTML object>"
      ]
     },
     "metadata": {},
     "output_type": "display_data"
    }
   ],
   "source": [
    "import time\n",
    "import requests\n",
    "from bs4 import BeautifulSoup\n",
    "from pyNBA.Data.constants import LINEUP_TEAM_TO_NBA_TEAM, LINEUP_NAME_TO_NBA_NAME\n",
    "\n",
    "import warnings\n",
    "warnings.filterwarnings('ignore')\n",
    "from IPython.core.display import display, HTML\n",
    "display(HTML(\"<style>.container { width:90% !important; }</style>\"))"
   ]
  },
  {
   "cell_type": "code",
   "execution_count": 2,
   "metadata": {},
   "outputs": [],
   "source": [
    "from nba_api.stats.static.teams import find_team_by_abbreviation\n",
    "from nba_api.stats.endpoints import CommonTeamRoster"
   ]
  },
  {
   "cell_type": "code",
   "execution_count": 3,
   "metadata": {},
   "outputs": [],
   "source": [
    "def prepare_team(team):\n",
    "    if team in LINEUP_TEAM_TO_NBA_TEAM:\n",
    "        return LINEUP_TEAM_TO_NBA_TEAM[team]\n",
    "    return team\n",
    "\n",
    "def prepare_name(name, team):\n",
    "    if name in LINEUP_NAME_TO_NBA_NAME:\n",
    "        if isinstance(LINEUP_NAME_TO_NBA_NAME[name], dict):\n",
    "            return LINEUP_NAME_TO_NBA_NAME[name][team]\n",
    "        return LINEUP_NAME_TO_NBA_NAME[name]\n",
    "    return name"
   ]
  },
  {
   "cell_type": "code",
   "execution_count": 4,
   "metadata": {},
   "outputs": [],
   "source": [
    "import pandas as pd\n",
    "current_player_data = pd.DataFrame(columns=[\n",
    "    'TEAM', 'NAME', 'START', 'PLAYERSTATUS'\n",
    "])"
   ]
  },
  {
   "cell_type": "code",
   "execution_count": 5,
   "metadata": {},
   "outputs": [],
   "source": [
    "def get_player_data(lineup):\n",
    "    player_data = pd.DataFrame(columns=[\n",
    "        'NAME', 'START', 'PLAYERSTATUS'\n",
    "    ])\n",
    "\n",
    "    players_added = {}\n",
    "    lineup_status = ''\n",
    "    start = 1\n",
    "\n",
    "    rows = lineup.find_all('li')\n",
    "    for row in rows:\n",
    "        row_class = row['class']\n",
    "        if row_class[0] == 'lineup__status':\n",
    "            lineup_status_data = row_class[1]\n",
    "            if lineup_status_data == 'is-expected':\n",
    "                lineup_status = 'Expected'\n",
    "            elif lineup_status_data == 'is-confirmed':\n",
    "                lineup_status = 'Confirmed'\n",
    "        elif row_class[0] == 'lineup__title':\n",
    "            start = 0\n",
    "        elif row_class[0] == 'lineup__player':\n",
    "            player_start = start\n",
    "            player_position = row.find('div', class_='lineup__pos').text\n",
    "            player_name = row.find('a').text\n",
    "            status_data = row.find('span', class_='lineup__inj')\n",
    "            player_status = 'Healthy' if status_data is None else status_data.text\n",
    "            if player_position != 'BE' and player_name not in players_added:\n",
    "                temp = pd.Series(\n",
    "                    [player_name, start, player_status],\n",
    "                    index=['NAME', 'START', 'PLAYERSTATUS']\n",
    "                    )\n",
    "                player_data = player_data.append(temp, ignore_index=True)\n",
    "                players_added[player_name] = 1\n",
    "                \n",
    "    return player_data, lineup_status\n",
    "    "
   ]
  },
  {
   "cell_type": "code",
   "execution_count": 6,
   "metadata": {},
   "outputs": [],
   "source": [
    "team_to_opp_team = {}\n",
    "team_to_status = {}"
   ]
  },
  {
   "cell_type": "code",
   "execution_count": 7,
   "metadata": {
    "scrolled": false
   },
   "outputs": [],
   "source": [
    "                                  \n",
    "URL = 'https://www.rotowire.com/basketball/nba-lineups.php'\n",
    "page = requests.get(URL)\n",
    "soup = BeautifulSoup(page.content, 'html.parser')\n",
    "\n",
    "games = soup.find_all('div', class_='lineup is-nba')\n",
    "for game in games:\n",
    "    away_team = game.find('a', class_='lineup__team is-visit').find('div', class_='lineup__abbr').text\n",
    "    away_team = prepare_team(away_team)\n",
    "    away_lineup = game.find('ul', class_='lineup__list is-visit')\n",
    "    away_player_data, away_lineup_status = get_player_data(away_lineup)\n",
    "    away_player_data['TEAM'] = away_team\n",
    "    away_player_data['NAME'] = away_player_data['NAME'].apply(lambda x: prepare_name(x, away_team))\n",
    "\n",
    "    home_team = game.find('a', class_='lineup__team is-home').find('div', class_='lineup__abbr').text\n",
    "    home_team = prepare_team(home_team)\n",
    "    home_lineup = game.find('ul', class_='lineup__list is-home')\n",
    "    home_player_data, home_lineup_status = get_player_data(home_lineup)\n",
    "    home_player_data['TEAM'] = home_team\n",
    "    home_player_data['NAME'] = home_player_data['NAME'].apply(lambda x: prepare_name(x, home_team))\n",
    "    \n",
    "    team_to_opp_team[away_team] = home_team\n",
    "    team_to_opp_team[home_team] = away_team\n",
    "    team_to_status[away_team] = away_lineup_status\n",
    "    team_to_status[home_team] = home_lineup_status\n",
    "    \n",
    "    current_player_data = current_player_data.append(away_player_data)\n",
    "    current_player_data = current_player_data.append(home_player_data)"
   ]
  },
  {
   "cell_type": "code",
   "execution_count": 8,
   "metadata": {
    "scrolled": false
   },
   "outputs": [
    {
     "name": "stdout",
     "output_type": "stream",
     "text": [
      "IND\n",
      "CLE\n",
      "OKC\n",
      "SAS\n",
      "TOR\n",
      "CHA\n",
      "DAL\n",
      "MIL\n",
      "MEM\n",
      "MIN\n",
      "DEN\n",
      "GSW\n",
      "PHX\n",
      "UTA\n"
     ]
    }
   ],
   "source": [
    "roster_data = pd.DataFrame()\n",
    "for team_abbreviation in current_player_data['TEAM'].unique():\n",
    "    print(team_abbreviation)\n",
    "    team = find_team_by_abbreviation(team_abbreviation)\n",
    "    team_id = team['id']\n",
    "\n",
    "    roster = CommonTeamRoster(season='2020-21', team_id=team_id).get_data_frames()[0]\n",
    "    time.sleep(0.500)\n",
    "    \n",
    "    roster['TEAM'] = team['abbreviation']\n",
    "\n",
    "    roster_data = roster_data.append(roster)\n",
    "\n",
    "roster_data = roster_data.rename(columns={'TeamID': 'TEAMID', 'PLAYER_ID': 'PLAYERID', 'PLAYER': 'NAME'})\n",
    "\n",
    "roster_data['POSITION'] = roster_data['POSITION'].str.replace('G', 'Guard')\n",
    "roster_data['POSITION'] = roster_data['POSITION'].str.replace('F', 'Forward')\n",
    "roster_data['POSITION'] = roster_data['POSITION'].str.replace('C', 'Center')"
   ]
  },
  {
   "cell_type": "code",
   "execution_count": 9,
   "metadata": {},
   "outputs": [],
   "source": [
    "current_data = roster_data.merge(current_player_data, on=['NAME', 'TEAM'], how='left')\n",
    "\n",
    "current_data['LINEUPSTATUS'] = current_data['TEAM'].apply(lambda x: team_to_status[x])\n",
    "current_data['OPP_TEAM'] = current_data['TEAM'].apply(lambda x: team_to_opp_team[x])\n",
    "\n",
    "from datetime import datetime\n",
    "current_date = datetime.now().strftime(\"%Y-%m-%d\")\n",
    "current_data['DATE'] = current_date\n",
    "\n",
    "current_data['START'] = current_data['START'].fillna(0)\n",
    "current_data['PLAYERSTATUS'] = current_data['PLAYERSTATUS'].fillna('Healthy')"
   ]
  },
  {
   "cell_type": "code",
   "execution_count": 10,
   "metadata": {},
   "outputs": [
    {
     "data": {
      "text/html": [
       "<div>\n",
       "<style scoped>\n",
       "    .dataframe tbody tr th:only-of-type {\n",
       "        vertical-align: middle;\n",
       "    }\n",
       "\n",
       "    .dataframe tbody tr th {\n",
       "        vertical-align: top;\n",
       "    }\n",
       "\n",
       "    .dataframe thead th {\n",
       "        text-align: right;\n",
       "    }\n",
       "</style>\n",
       "<table border=\"1\" class=\"dataframe\">\n",
       "  <thead>\n",
       "    <tr style=\"text-align: right;\">\n",
       "      <th></th>\n",
       "      <th>LINEUPSTATUS</th>\n",
       "      <th>PLAYERID</th>\n",
       "      <th>SEASON</th>\n",
       "      <th>DATE</th>\n",
       "      <th>TEAM</th>\n",
       "      <th>OPP_TEAM</th>\n",
       "      <th>NAME</th>\n",
       "      <th>POSITION</th>\n",
       "      <th>START</th>\n",
       "      <th>PLAYERSTATUS</th>\n",
       "    </tr>\n",
       "  </thead>\n",
       "  <tbody>\n",
       "    <tr>\n",
       "      <th>0</th>\n",
       "      <td>Expected</td>\n",
       "      <td>1629665</td>\n",
       "      <td>2020</td>\n",
       "      <td>2020-12-12</td>\n",
       "      <td>IND</td>\n",
       "      <td>CLE</td>\n",
       "      <td>Jalen Lecque</td>\n",
       "      <td>Guard</td>\n",
       "      <td>0</td>\n",
       "      <td>Healthy</td>\n",
       "    </tr>\n",
       "    <tr>\n",
       "      <th>1</th>\n",
       "      <td>Expected</td>\n",
       "      <td>1630262</td>\n",
       "      <td>2020</td>\n",
       "      <td>2020-12-12</td>\n",
       "      <td>IND</td>\n",
       "      <td>CLE</td>\n",
       "      <td>Rayshaun Hammonds</td>\n",
       "      <td>Forward</td>\n",
       "      <td>0</td>\n",
       "      <td>Healthy</td>\n",
       "    </tr>\n",
       "    <tr>\n",
       "      <th>2</th>\n",
       "      <td>Expected</td>\n",
       "      <td>1629103</td>\n",
       "      <td>2020</td>\n",
       "      <td>2020-12-12</td>\n",
       "      <td>IND</td>\n",
       "      <td>CLE</td>\n",
       "      <td>Kelan Martin</td>\n",
       "      <td>Forward</td>\n",
       "      <td>0</td>\n",
       "      <td>Healthy</td>\n",
       "    </tr>\n",
       "    <tr>\n",
       "      <th>3</th>\n",
       "      <td>Expected</td>\n",
       "      <td>203933</td>\n",
       "      <td>2020</td>\n",
       "      <td>2020-12-12</td>\n",
       "      <td>IND</td>\n",
       "      <td>CLE</td>\n",
       "      <td>T.J. Warren</td>\n",
       "      <td>Forward</td>\n",
       "      <td>0</td>\n",
       "      <td>OUT</td>\n",
       "    </tr>\n",
       "    <tr>\n",
       "      <th>4</th>\n",
       "      <td>Expected</td>\n",
       "      <td>1630199</td>\n",
       "      <td>2020</td>\n",
       "      <td>2020-12-12</td>\n",
       "      <td>IND</td>\n",
       "      <td>CLE</td>\n",
       "      <td>Cassius Stanley</td>\n",
       "      <td>Guard</td>\n",
       "      <td>0</td>\n",
       "      <td>Healthy</td>\n",
       "    </tr>\n",
       "    <tr>\n",
       "      <th>...</th>\n",
       "      <td>...</td>\n",
       "      <td>...</td>\n",
       "      <td>...</td>\n",
       "      <td>...</td>\n",
       "      <td>...</td>\n",
       "      <td>...</td>\n",
       "      <td>...</td>\n",
       "      <td>...</td>\n",
       "      <td>...</td>\n",
       "      <td>...</td>\n",
       "    </tr>\n",
       "    <tr>\n",
       "      <th>265</th>\n",
       "      <td>Expected</td>\n",
       "      <td>1630190</td>\n",
       "      <td>2020</td>\n",
       "      <td>2020-12-12</td>\n",
       "      <td>UTA</td>\n",
       "      <td>PHX</td>\n",
       "      <td>Elijah Hughes</td>\n",
       "      <td>Guard</td>\n",
       "      <td>0</td>\n",
       "      <td>Healthy</td>\n",
       "    </tr>\n",
       "    <tr>\n",
       "      <th>266</th>\n",
       "      <td>Expected</td>\n",
       "      <td>1629129</td>\n",
       "      <td>2020</td>\n",
       "      <td>2020-12-12</td>\n",
       "      <td>UTA</td>\n",
       "      <td>PHX</td>\n",
       "      <td>Trevon Bluiett</td>\n",
       "      <td>Guard</td>\n",
       "      <td>0</td>\n",
       "      <td>Healthy</td>\n",
       "    </tr>\n",
       "    <tr>\n",
       "      <th>267</th>\n",
       "      <td>Expected</td>\n",
       "      <td>202711</td>\n",
       "      <td>2020</td>\n",
       "      <td>2020-12-12</td>\n",
       "      <td>UTA</td>\n",
       "      <td>PHX</td>\n",
       "      <td>Bojan Bogdanovic</td>\n",
       "      <td>Forward</td>\n",
       "      <td>0</td>\n",
       "      <td>Healthy</td>\n",
       "    </tr>\n",
       "    <tr>\n",
       "      <th>268</th>\n",
       "      <td>Expected</td>\n",
       "      <td>1628378</td>\n",
       "      <td>2020</td>\n",
       "      <td>2020-12-12</td>\n",
       "      <td>UTA</td>\n",
       "      <td>PHX</td>\n",
       "      <td>Donovan Mitchell</td>\n",
       "      <td>Guard</td>\n",
       "      <td>0</td>\n",
       "      <td>Healthy</td>\n",
       "    </tr>\n",
       "    <tr>\n",
       "      <th>269</th>\n",
       "      <td>Expected</td>\n",
       "      <td>1629671</td>\n",
       "      <td>2020</td>\n",
       "      <td>2020-12-12</td>\n",
       "      <td>UTA</td>\n",
       "      <td>PHX</td>\n",
       "      <td>Miye Oni</td>\n",
       "      <td>Guard-Forward</td>\n",
       "      <td>0</td>\n",
       "      <td>Healthy</td>\n",
       "    </tr>\n",
       "  </tbody>\n",
       "</table>\n",
       "<p>270 rows × 10 columns</p>\n",
       "</div>"
      ],
      "text/plain": [
       "    LINEUPSTATUS  PLAYERID SEASON        DATE TEAM OPP_TEAM  \\\n",
       "0       Expected   1629665   2020  2020-12-12  IND      CLE   \n",
       "1       Expected   1630262   2020  2020-12-12  IND      CLE   \n",
       "2       Expected   1629103   2020  2020-12-12  IND      CLE   \n",
       "3       Expected    203933   2020  2020-12-12  IND      CLE   \n",
       "4       Expected   1630199   2020  2020-12-12  IND      CLE   \n",
       "..           ...       ...    ...         ...  ...      ...   \n",
       "265     Expected   1630190   2020  2020-12-12  UTA      PHX   \n",
       "266     Expected   1629129   2020  2020-12-12  UTA      PHX   \n",
       "267     Expected    202711   2020  2020-12-12  UTA      PHX   \n",
       "268     Expected   1628378   2020  2020-12-12  UTA      PHX   \n",
       "269     Expected   1629671   2020  2020-12-12  UTA      PHX   \n",
       "\n",
       "                  NAME       POSITION  START PLAYERSTATUS  \n",
       "0         Jalen Lecque          Guard      0      Healthy  \n",
       "1    Rayshaun Hammonds        Forward      0      Healthy  \n",
       "2         Kelan Martin        Forward      0      Healthy  \n",
       "3          T.J. Warren        Forward      0          OUT  \n",
       "4      Cassius Stanley          Guard      0      Healthy  \n",
       "..                 ...            ...    ...          ...  \n",
       "265      Elijah Hughes          Guard      0      Healthy  \n",
       "266     Trevon Bluiett          Guard      0      Healthy  \n",
       "267   Bojan Bogdanovic        Forward      0      Healthy  \n",
       "268   Donovan Mitchell          Guard      0      Healthy  \n",
       "269           Miye Oni  Guard-Forward      0      Healthy  \n",
       "\n",
       "[270 rows x 10 columns]"
      ]
     },
     "metadata": {},
     "output_type": "display_data"
    }
   ],
   "source": [
    "current_data = current_data[['LINEUPSTATUS', 'PLAYERID', 'SEASON', 'DATE', 'TEAM', 'OPP_TEAM', 'NAME', 'POSITION', 'START', 'PLAYERSTATUS']]\n",
    "display(current_data)"
   ]
  },
  {
   "cell_type": "code",
   "execution_count": 11,
   "metadata": {},
   "outputs": [
    {
     "name": "stdout",
     "output_type": "stream",
     "text": [
      "40\n",
      "14\n"
     ]
    }
   ],
   "source": [
    "print(len(current_data.loc[current_data['START'] == 1]))\n",
    "print(len(current_data['TEAM'].unique()))"
   ]
  },
  {
   "cell_type": "code",
   "execution_count": 12,
   "metadata": {},
   "outputs": [
    {
     "name": "stdout",
     "output_type": "stream",
     "text": [
      "['M. Brogdon' 'V. Oladipo' 'J. Holiday' 'D. Sabonis' 'Brian Bowen'\n",
      " 'D. Garland' 'A. Drummond' 'Kevin Porter' 'S. Gilgeous-Alexander'\n",
      " 'H. Diallo' 'A. Schofield' 'A. Pokusevski' 'J. Jackson' 'D. Murray'\n",
      " 'L. Aldridge' 'K. Johnson' 'Q. Weatherspoon' 'Lonnie Walker' 'D. Graham'\n",
      " 'G. Hayward' 'PJ Washington' 'Tim Hardaway' 'J. Richardson'\n",
      " 'K. Porzingis' 'D. DiVincenzo' 'K. Middleton' 'G. Antetokounmpo'\n",
      " 'B. Clarke' 'J. Valanciunas' 'Jaren Jackson' 'K. Tillie' 'J. Winslow'\n",
      " 'D. Melton' 'D. Russell' 'A. Edwards' 'J. Hernangomez' 'K. Towns'\n",
      " 'M. Porter' 'A. Wiggins' 'Kelly Oubre' 'D. Green' 'D. Mitchell'\n",
      " 'S. Harrison' 'Bogdan Bogdanovic']\n"
     ]
    }
   ],
   "source": [
    "print(current_player_data.loc[~current_player_data['NAME'].isin(roster_data['NAME'].unique())]['NAME'].unique())"
   ]
  },
  {
   "cell_type": "code",
   "execution_count": 57,
   "metadata": {},
   "outputs": [
    {
     "name": "stdout",
     "output_type": "stream",
     "text": [
      "        TEAMID SEASON LeagueID              NAME       PLAYER_SLUG NUM  \\\n",
      "17  1610612762   2020       00  Bojan Bogdanovic  bojan-bogdanovic  44   \n",
      "\n",
      "   POSITION HEIGHT WEIGHT    BIRTH_DATE   AGE EXP      SCHOOL  PLAYERID TEAM  \n",
      "17  Forward    6-8    226  APR 18, 1989  31.0   6  Fenerbahce    202711  UTA  \n"
     ]
    }
   ],
   "source": [
    "print(roster_data.loc[roster_data['NAME'].str.contains('Bogdanovic')])"
   ]
  },
  {
   "cell_type": "code",
   "execution_count": null,
   "metadata": {},
   "outputs": [],
   "source": []
  }
 ],
 "metadata": {
  "kernelspec": {
   "display_name": "venv",
   "language": "python",
   "name": "venv"
  },
  "language_info": {
   "codemirror_mode": {
    "name": "ipython",
    "version": 3
   },
   "file_extension": ".py",
   "mimetype": "text/x-python",
   "name": "python",
   "nbconvert_exporter": "python",
   "pygments_lexer": "ipython3",
   "version": "3.7.3"
  }
 },
 "nbformat": 4,
 "nbformat_minor": 4
}

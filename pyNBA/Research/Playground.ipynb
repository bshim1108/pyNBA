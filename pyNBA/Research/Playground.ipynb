{
 "cells": [
  {
   "cell_type": "code",
   "execution_count": 75,
   "metadata": {},
   "outputs": [],
   "source": [
    "import requests\n",
    "from bs4 import BeautifulSoup"
   ]
  },
  {
   "cell_type": "code",
   "execution_count": 76,
   "metadata": {},
   "outputs": [],
   "source": [
    "URL = 'https://www.numberfire.com/nba/daily-fantasy/daily-basketball-projections'\n",
    "page = requests.get(URL)\n",
    "soup = BeautifulSoup(page.content, 'html.parser')"
   ]
  },
  {
   "cell_type": "code",
   "execution_count": 77,
   "metadata": {},
   "outputs": [],
   "source": [
    "all_players = soup.find_all('tr', {'data-sport-path': 'nba'})"
   ]
  },
  {
   "cell_type": "code",
   "execution_count": 78,
   "metadata": {},
   "outputs": [],
   "source": [
    "player = all_players[0]"
   ]
  },
  {
   "cell_type": "code",
   "execution_count": 79,
   "metadata": {},
   "outputs": [],
   "source": [
    "name = player.find('a', {'class': 'full'}).text.strip()"
   ]
  },
  {
   "cell_type": "code",
   "execution_count": 80,
   "metadata": {},
   "outputs": [
    {
     "data": {
      "text/plain": [
       "'Russell Westbrook'"
      ]
     },
     "execution_count": 80,
     "metadata": {},
     "output_type": "execute_result"
    }
   ],
   "source": [
    "name"
   ]
  },
  {
   "cell_type": "code",
   "execution_count": 81,
   "metadata": {},
   "outputs": [],
   "source": [
    "name = float(player.find('td', {'class': 'min'}).text.strip())"
   ]
  },
  {
   "cell_type": "code",
   "execution_count": 82,
   "metadata": {},
   "outputs": [
    {
     "data": {
      "text/plain": [
       "36.2"
      ]
     },
     "execution_count": 82,
     "metadata": {},
     "output_type": "execute_result"
    }
   ],
   "source": [
    "name"
   ]
  },
  {
   "cell_type": "code",
   "execution_count": 64,
   "metadata": {
    "scrolled": false
   },
   "outputs": [
    {
     "name": "stdout",
     "output_type": "stream",
     "text": [
      "<tr class=\"\" data-player-id=\"397\" data-row-index=\"1\" data-sport-path=\"nba\">\n",
      "<td class=\"team-player cta left-aligned\" data-player-id=\"397\">\n",
      "<i class=\"nf-icon icon-locked\" data-player-id=\"397\" data-sport-path=\"nba\"></i>\n",
      "<i class=\"nf-icon icon-exclude\" data-player-id=\"397\" data-sport-path=\"nba\"></i>\n",
      "<span class=\"player-info\">\n",
      "<a class=\"abbrev\" href=\"/nba/players/russell-westbrook\">\n",
      "                                    R. Westbrook                                </a>\n",
      "<a class=\"full\" href=\"/nba/players/russell-westbrook\">\n",
      "                                    Russell Westbrook                                </a>\n",
      "<span class=\"player-info--position\">PG</span>\n",
      "<div class=\"player-info--game-info\">\n",
      "<span class=\"team-player__team active\">\n",
      "                                        WSH                                    </span>\n",
      "                                         @ \n",
      "                                    <span class=\"team-player__team\">\n",
      "                                        NY                                    </span>\n",
      "<span class=\"gametime\">\n",
      "                                        Thu 7:30pm                                    </span>\n",
      "</div>\n",
      "</span>\n",
      "</td>\n",
      "<td class=\"fp active\">\n",
      "                            50.1                        </td>\n",
      "<td class=\"cost\">\n",
      "                            $11,100                        </td>\n",
      "<td class=\"value\">\n",
      "                            4.51                        </td>\n",
      "<td class=\"min\">\n",
      "                            36.20                        </td>\n",
      "<td class=\"pts\">\n",
      "                            23.4                        </td>\n",
      "<td class=\"reb\">\n",
      "                            8.8                        </td>\n",
      "<td class=\"ast\">\n",
      "                            10.9                        </td>\n",
      "<td class=\"stl\">\n",
      "                            1.2                        </td>\n",
      "<td class=\"blk\">\n",
      "                            0.3                        </td>\n",
      "<td class=\"to\">\n",
      "                            4.7                        </td>\n",
      "</tr>\n"
     ]
    }
   ],
   "source": [
    "print(all_players[0])"
   ]
  },
  {
   "cell_type": "code",
   "execution_count": null,
   "metadata": {},
   "outputs": [],
   "source": [
    "['Jordan Poole' 'Kelly Oubre Jr.' 'Andrew Wiggins' 'James Wiseman'\n",
    " 'Draymond Green' 'Damion Lee' 'Nico Mannion' 'Kevon Looney'\n",
    " 'Alen Smailagic' 'Eric Paschall' 'Brad Wanamaker' 'Klay Thompson'\n",
    " 'Mychal Mulder' 'Kent Bazemore' 'Marquese Chriss' 'Juan Toscano-Anderson'\n",
    " 'Stephen Curry' 'Reggie Jackson' 'Kawhi Leonard' 'Marcus Morris Sr.'\n",
    " 'Paul George' 'Ivica Zubac' 'Luke Kennard' 'Amir Coffey' 'Daniel Oturu'\n",
    " 'Terance Mann' 'Lou Williams' 'Nicolas Batum' 'Patrick Patterson'\n",
    " 'Jay Scrubb' 'Serge Ibaka' 'Patrick Beverley' 'Kyle Kuzma'\n",
    " 'Kentavious Caldwell-Pope' 'Marc Gasol' 'Dennis Schroder'\n",
    " 'Markieff Morris' 'Alex Caruso' 'Talen Horton-Tucker' 'Wesley Matthews'\n",
    " 'Devontae Cacok' 'Montrezl Harrell' 'Alfonzo McKinnie'\n",
    " 'Kostas Antetokounmpo' 'Anthony Davis' 'Jared Dudley' 'LeBron James'\n",
    " 'Bam Adebayo' 'Kendrick Nunn' 'Andre Iguodala' 'Max Strus'\n",
    " 'Duncan Robinson' 'Trevor Ariza' 'Gabe Vincent' 'Precious Achiuwa'\n",
    " 'Maurice Harkless' 'Kelly Olynyk' 'Avery Bradley' 'Tyler Herro'\n",
    " 'Chris Silva' 'KZ Okpala' 'Goran Dragic' 'Jimmy Butler' 'Udonis Haslem'\n",
    " 'RJ Barrett' 'Alec Burks' 'Julius Randle' 'Nerlens Noel' 'Elfrid Payton'\n",
    " 'Jared Harper' 'Obi Toppin' 'Immanuel Quickley' 'Austin Rivers'\n",
    " 'Frank Ntilikina' 'Ignas Brazdeikis' 'Kevin Knox II' 'Theo Pinson'\n",
    " 'Mitchell Robinson' 'Taj Gibson' 'Derrick Rose' 'Reggie Bullock'\n",
    " 'Tobias Harris' 'Danny Green' 'Ben Simmons' 'Dwight Howard' 'Seth Curry'\n",
    " 'Tyrese Maxey' 'Mike Scott' 'Isaiah Joe' 'Rayjon Tucker' 'Tony Bradley'\n",
    " 'Vincent Poirier' 'Shake Milton' 'Matisse Thybulle' 'Terrance Ferguson'\n",
    " 'Furkan Korkmaz' 'Paul Reed' 'Joel Embiid' 'Damian Lillard' 'CJ McCollum'\n",
    " 'Enes Kanter' 'Robert Covington' 'Derrick Jones Jr.' 'Carmelo Anthony'\n",
    " 'Anfernee Simons' 'Gary Trent Jr.' 'Harry Giles III' 'Rodney Hood'\n",
    " 'Nassir Little' 'CJ Elleby' 'Keljin Blevins' 'Jusuf Nurkic'\n",
    " 'Zach Collins' 'Tyrese Haliburton' \"De'Aaron Fox\" 'Richaun Holmes'\n",
    " 'Buddy Hield' 'Harrison Barnes' \"Jahmi'us Ramsey\" 'Kyle Guy'\n",
    " 'Nemanja Bjelica' 'Cory Joseph' 'Justin James' 'Robert Woodard II'\n",
    " 'DaQuan Jeffries' 'Hassan Whiteside' 'Chimezie Metu' 'Mfiondu Kabengele'\n",
    " 'Jabari Parker' 'Marvin Bagley III' 'Keldon Johnson' 'Derrick White'\n",
    " 'Dejounte Murray' 'DeMar DeRozan' 'Jakob Poeltl' 'Patty Mills'\n",
    " 'LaMarcus Aldridge' 'Drew Eubanks' 'Quinndary Weatherspoon'\n",
    " 'Luka Samanic' 'Rudy Gay' 'Devin Vassell' 'Tre Jones' 'Trey Lyles'\n",
    " 'Lonnie Walker IV' 'Keita Bates-Diop' 'Bradley Beal' 'Russell Westbrook'\n",
    " 'Rui Hachimura' 'Garrison Mathews' 'Alex Len' 'Cassius Winston'\n",
    " 'Troy Brown Jr.' 'Deni Avdija' 'Jerome Robinson' 'Thomas Bryant'\n",
    " 'Robin Lopez' 'Anthony Gill' 'Isaac Bonga' 'Raul Neto' 'Moritz Wagner'\n",
    " 'Ish Smith' 'Davis Bertans']\n",
    "{'Russell Westbrook': 36.2, 'Bradley Beal': 36.49, 'Damian Lillard': 37.63, 'Julius Randle': 36.47, \"De'Aaron Fox\": 36.84, 'Ben Simmons': 34.25, 'Bam Adebayo': 33.88, 'Paul George': 33.7, 'Tobias Harris': 33.95, 'DeMar DeRozan': 33.83, 'Richaun Holmes': 33.78, 'Dejounte Murray': 33.35, 'Draymond Green': 35.09, 'CJ McCollum': 33.54, 'RJ Barrett': 34.59, 'Dwight Howard': 30.34, 'Montrezl Harrell': 30.93, 'Kyle Kuzma': 34.32, 'Jordan Poole': 37.12, 'Tyrese Haliburton': 35.16, 'Enes Kanter': 30.35, 'Kelly Oubre Jr.': 34.79, 'Harrison Barnes': 36.23, 'Dennis Schroder': 34.87, 'Derrick White': 33.28, 'Ivica Zubac': 30.5, 'Andrew Wiggins': 32.68, 'Buddy Hield': 36.8, 'Tyler Herro': 33.88, 'James Wiseman': 28.45, 'Jakob Poeltl': 28.89, 'Robert Covington': 35.06, 'Alec Burks': 31.81, 'Mitchell Robinson': 28.27, 'Keldon Johnson': 32.98, 'Rui Hachimura': 37.22, 'Kendrick Nunn': 34.25, 'Alex Len': 23.48, 'Carmelo Anthony': 26.21, 'Immanuel Quickley': 27.32, 'Reggie Jackson': 27.14, 'Talen Horton-Tucker': 23.54, 'Elfrid Payton': 27.28, 'Duncan Robinson': 35.41, 'Marcus Morris Sr.': 30.11, 'Markieff Morris': 28.08, 'Shake Milton': 23.88, 'Seth Curry': 28.93, 'Precious Achiuwa': 20.54, 'Nicolas Batum': 27.74, 'Hassan Whiteside': 16.6, 'Robin Lopez': 25.53, 'Rudy Gay': 20.36, 'Derrick Jones Jr.': 32.13, 'Danny Green': 27.69, 'Andre Iguodala': 26.4, 'Patty Mills': 25.37, 'Raul Neto': 24.05, 'Terance Mann': 28.84, 'Nassir Little': 26.09, 'Nico Mannion': 18.4, 'Trevor Ariza': 25.36, 'Kentavious Caldwell-Pope': 29.34, 'Kevon Looney': 17.59, 'Damion Lee': 21.94, 'Gabe Vincent': 20.17, 'Frank Ntilikina': 21.46, 'Devin Vassell': 21.59, 'Deni Avdija': 20.13, 'Chimezie Metu': 10.39, 'Matisse Thybulle': 19.0, 'Anfernee Simons': 18.21, 'Marc Gasol': 15.54, 'Alex Caruso': 17.84, 'Furkan Korkmaz': 17.59, 'Kent Bazemore': 16.12, 'Garrison Mathews': 21.13, 'Luke Kennard': 17.62, 'Justin James': 16.43, 'Mike Scott': 20.89, 'DaQuan Jeffries': 18.97, 'Isaac Bonga': 14.7, 'Devontae Cacok': 10.2, 'Wesley Matthews': 17.79, 'Drew Eubanks': 8.77, 'Max Strus': 10.29, 'Obi Toppin': 6.51, 'Amir Coffey': 6.52, 'Patrick Patterson': 7.18, 'Tyrese Maxey': 4.34, 'Kevin Knox II': 4.1, 'Eric Paschall': 0.86, 'Harry Giles': 0.82, 'Kyle Guy': 0.85, 'Jabari Parker': 0.79, 'Jerome Robinson': 0.58, 'Juan Toscano-Anderson': 0.83, 'Taj Gibson': 0.6, 'Keita Bates-Diop': 0.79, 'Luka Samanic': 0.55, 'Tre Jones': 0.37, 'Mychal Mulder': 0.22, 'Jimmy Butler': 0.0, 'Goran Dragic': 0.0, 'Udonis Haslem': 0.0, 'Keljin Blevins': 0.06, 'Kawhi Leonard': 0.0, 'Anthony Gill': 0.07, 'CJ Elleby': 0.09, 'KZ Okpala': 0.0, 'Derrick Rose': 0.0, 'Davis Bertans': 0.0, 'Serge Ibaka': 0.0, 'Nerlens Noel': 0.0, 'Reggie Bullock': 0.0, 'Vincent Poirier': 0.04, 'Theo Pinson': 0.03, 'Cassius Winston': 0.08, 'Isaiah Joe': 0.11, 'LeBron James': 0.0, 'Jared Dudley': 0.07, 'Chris Silva': 0.08, 'Joel Embiid': 0.0, 'Terrance Ferguson': 0.0, 'Kostas Antetokounmpo': 0.07, 'Alfonzo McKinnie': 0.06, 'Alen Smailagic': 0.04, 'Mfiondu Kabengele': 0.05, 'Daniel Oturu': 0.07, 'Lonnie Walker IV': 0.0, 'Trey Lyles': 0.15, 'Stephen Curry': 0.0, 'Maurice Harkless': 0.0, 'Nemanja Bjelica': 0.0, 'Patrick Beverley': 0.0}"
   ]
  }
 ],
 "metadata": {
  "kernelspec": {
   "display_name": "venv",
   "language": "python",
   "name": "venv"
  },
  "language_info": {
   "codemirror_mode": {
    "name": "ipython",
    "version": 3
   },
   "file_extension": ".py",
   "mimetype": "text/x-python",
   "name": "python",
   "nbconvert_exporter": "python",
   "pygments_lexer": "ipython3",
   "version": "3.7.3"
  }
 },
 "nbformat": 4,
 "nbformat_minor": 4
}

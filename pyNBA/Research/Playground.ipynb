{
 "cells": [
  {
   "cell_type": "code",
   "execution_count": 1,
   "metadata": {},
   "outputs": [
    {
     "data": {
      "text/html": [
       "<style>.container { width:90% !important; }</style>"
      ],
      "text/plain": [
       "<IPython.core.display.HTML object>"
      ]
     },
     "metadata": {},
     "output_type": "display_data"
    }
   ],
   "source": [
    "import time\n",
    "import requests\n",
    "from bs4 import BeautifulSoup\n",
    "from pyNBA.Data.constants import LINEUP_TEAM_TO_NBA_TEAM, LINEUP_NAME_TO_NBA_NAME\n",
    "\n",
    "import warnings\n",
    "warnings.filterwarnings('ignore')\n",
    "from IPython.core.display import display, HTML\n",
    "display(HTML(\"<style>.container { width:90% !important; }</style>\"))"
   ]
  },
  {
   "cell_type": "code",
   "execution_count": 2,
   "metadata": {},
   "outputs": [],
   "source": [
    "from nba_api.stats.static.teams import find_team_by_abbreviation\n",
    "from nba_api.stats.endpoints import CommonTeamRoster"
   ]
  },
  {
   "cell_type": "code",
   "execution_count": 3,
   "metadata": {},
   "outputs": [],
   "source": [
    "def prepare_team(team):\n",
    "    if team in LINEUP_TEAM_TO_NBA_TEAM:\n",
    "        return LINEUP_TEAM_TO_NBA_TEAM[team]\n",
    "    return team\n",
    "\n",
    "def prepare_name(name, team):\n",
    "    if name in LINEUP_NAME_TO_NBA_NAME:\n",
    "        if isinstance(LINEUP_NAME_TO_NBA_NAME[name], dict):\n",
    "            return LINEUP_NAME_TO_NBA_NAME[name][team]\n",
    "        return LINEUP_NAME_TO_NBA_NAME[name]\n",
    "    return name"
   ]
  },
  {
   "cell_type": "code",
   "execution_count": 4,
   "metadata": {},
   "outputs": [],
   "source": [
    "import pandas as pd\n",
    "current_player_data = pd.DataFrame(columns=[\n",
    "    'TEAM', 'NAME', 'START', 'PLAYERSTATUS'\n",
    "])"
   ]
  },
  {
   "cell_type": "code",
   "execution_count": 5,
   "metadata": {},
   "outputs": [],
   "source": [
    "def get_player_data(lineup):\n",
    "    player_data = pd.DataFrame(columns=[\n",
    "        'NAME', 'START', 'PLAYERSTATUS'\n",
    "    ])\n",
    "\n",
    "    players_added = {}\n",
    "    lineup_status = ''\n",
    "    start = 1\n",
    "\n",
    "    rows = lineup.find_all('li')\n",
    "    for row in rows:\n",
    "        row_class = row['class']\n",
    "        if row_class[0] == 'lineup__status':\n",
    "            lineup_status_data = row_class[1]\n",
    "            if lineup_status_data == 'is-expected':\n",
    "                lineup_status = 'Expected'\n",
    "            elif lineup_status_data == 'is-confirmed':\n",
    "                lineup_status = 'Confirmed'\n",
    "        elif row_class[0] == 'lineup__title':\n",
    "            start = 0\n",
    "        elif row_class[0] == 'lineup__player':\n",
    "            player_start = start\n",
    "            player_position = row.find('div', class_='lineup__pos').text\n",
    "            player_name = row.find('a').text\n",
    "            status_data = row.find('span', class_='lineup__inj')\n",
    "            player_status = 'Healthy' if status_data is None else status_data.text\n",
    "            if player_position != 'BE' and player_name not in players_added:\n",
    "                temp = pd.Series(\n",
    "                    [player_name, start, player_status],\n",
    "                    index=['NAME', 'START', 'PLAYERSTATUS']\n",
    "                    )\n",
    "                player_data = player_data.append(temp, ignore_index=True)\n",
    "                players_added[player_name] = 1\n",
    "                \n",
    "    return player_data, lineup_status\n",
    "    "
   ]
  },
  {
   "cell_type": "code",
   "execution_count": 6,
   "metadata": {},
   "outputs": [],
   "source": [
    "team_to_opp_team = {}\n",
    "team_to_status = {}"
   ]
  },
  {
   "cell_type": "code",
   "execution_count": 7,
   "metadata": {
    "scrolled": false
   },
   "outputs": [],
   "source": [
    "                                  \n",
    "URL = 'https://www.rotowire.com/basketball/nba-lineups.php'\n",
    "page = requests.get(URL)\n",
    "soup = BeautifulSoup(page.content, 'html.parser')\n",
    "\n",
    "games = soup.find_all('div', class_='lineup is-nba')\n",
    "for game in games:\n",
    "    away_team = game.find('a', class_='lineup__team is-visit').find('div', class_='lineup__abbr').text\n",
    "    away_team = prepare_team(away_team)\n",
    "    away_lineup = game.find('ul', class_='lineup__list is-visit')\n",
    "    away_player_data, away_lineup_status = get_player_data(away_lineup)\n",
    "    away_player_data['TEAM'] = away_team\n",
    "    away_player_data['NAME'] = away_player_data['NAME'].apply(lambda x: prepare_name(x, away_team))\n",
    "\n",
    "    home_team = game.find('a', class_='lineup__team is-home').find('div', class_='lineup__abbr').text\n",
    "    home_team = prepare_team(home_team)\n",
    "    home_lineup = game.find('ul', class_='lineup__list is-home')\n",
    "    home_player_data, home_lineup_status = get_player_data(home_lineup)\n",
    "    home_player_data['TEAM'] = home_team\n",
    "    home_player_data['NAME'] = home_player_data['NAME'].apply(lambda x: prepare_name(x, home_team))\n",
    "    \n",
    "    team_to_opp_team[away_team] = home_team\n",
    "    team_to_opp_team[home_team] = away_team\n",
    "    team_to_status[away_team] = away_lineup_status\n",
    "    team_to_status[home_team] = home_lineup_status\n",
    "    \n",
    "    current_player_data = current_player_data.append(away_player_data)\n",
    "    current_player_data = current_player_data.append(home_player_data)"
   ]
  },
  {
   "cell_type": "code",
   "execution_count": 8,
   "metadata": {
    "scrolled": false
   },
   "outputs": [
    {
     "name": "stdout",
     "output_type": "stream",
     "text": [
      "ORL\n",
      "ATL\n",
      "WAS\n",
      "BKN\n",
      "NYK\n",
      "DET\n",
      "HOU\n",
      "CHI\n",
      "LAC\n",
      "LAL\n",
      "SAC\n",
      "POR\n"
     ]
    }
   ],
   "source": [
    "roster_data = pd.DataFrame()\n",
    "for team_abbreviation in current_player_data['TEAM'].unique():\n",
    "    print(team_abbreviation)\n",
    "    team = find_team_by_abbreviation(team_abbreviation)\n",
    "    team_id = team['id']\n",
    "\n",
    "    roster = CommonTeamRoster(season='2020-21', team_id=team_id).get_data_frames()[0]\n",
    "    time.sleep(0.500)\n",
    "    \n",
    "    roster['TEAM'] = team['abbreviation']\n",
    "\n",
    "    roster_data = roster_data.append(roster)\n",
    "\n",
    "roster_data = roster_data.rename(columns={'TeamID': 'TEAMID', 'PLAYER_ID': 'PLAYERID', 'PLAYER': 'NAME'})\n",
    "\n",
    "roster_data['POSITION'] = roster_data['POSITION'].str.replace('G', 'Guard')\n",
    "roster_data['POSITION'] = roster_data['POSITION'].str.replace('F', 'Forward')\n",
    "roster_data['POSITION'] = roster_data['POSITION'].str.replace('C', 'Center')"
   ]
  },
  {
   "cell_type": "code",
   "execution_count": 9,
   "metadata": {},
   "outputs": [],
   "source": [
    "current_data = roster_data.merge(current_player_data, on=['NAME', 'TEAM'], how='left')\n",
    "\n",
    "current_data['LINEUPSTATUS'] = current_data['TEAM'].apply(lambda x: team_to_status[x])\n",
    "current_data['OPP_TEAM'] = current_data['TEAM'].apply(lambda x: team_to_opp_team[x])\n",
    "\n",
    "from datetime import datetime\n",
    "current_date = datetime.now().strftime(\"%Y-%m-%d\")\n",
    "current_data['DATE'] = current_date\n",
    "\n",
    "current_data['START'] = current_data['START'].fillna(0)\n",
    "current_data['PLAYERSTATUS'] = current_data['PLAYERSTATUS'].fillna('Healthy')"
   ]
  },
  {
   "cell_type": "code",
   "execution_count": 10,
   "metadata": {},
   "outputs": [
    {
     "data": {
      "text/html": [
       "<div>\n",
       "<style scoped>\n",
       "    .dataframe tbody tr th:only-of-type {\n",
       "        vertical-align: middle;\n",
       "    }\n",
       "\n",
       "    .dataframe tbody tr th {\n",
       "        vertical-align: top;\n",
       "    }\n",
       "\n",
       "    .dataframe thead th {\n",
       "        text-align: right;\n",
       "    }\n",
       "</style>\n",
       "<table border=\"1\" class=\"dataframe\">\n",
       "  <thead>\n",
       "    <tr style=\"text-align: right;\">\n",
       "      <th></th>\n",
       "      <th>LINEUPSTATUS</th>\n",
       "      <th>PLAYERID</th>\n",
       "      <th>SEASON</th>\n",
       "      <th>DATE</th>\n",
       "      <th>TEAM</th>\n",
       "      <th>OPP_TEAM</th>\n",
       "      <th>NAME</th>\n",
       "      <th>POSITION</th>\n",
       "      <th>START</th>\n",
       "      <th>PLAYERSTATUS</th>\n",
       "    </tr>\n",
       "  </thead>\n",
       "  <tbody>\n",
       "    <tr>\n",
       "      <th>0</th>\n",
       "      <td>Expected</td>\n",
       "      <td>1629962</td>\n",
       "      <td>2020</td>\n",
       "      <td>2020-12-13</td>\n",
       "      <td>ORL</td>\n",
       "      <td>ATL</td>\n",
       "      <td>Devin Cannady</td>\n",
       "      <td>Guard</td>\n",
       "      <td>0</td>\n",
       "      <td>Healthy</td>\n",
       "    </tr>\n",
       "    <tr>\n",
       "      <th>1</th>\n",
       "      <td>Expected</td>\n",
       "      <td>1630211</td>\n",
       "      <td>2020</td>\n",
       "      <td>2020-12-13</td>\n",
       "      <td>ORL</td>\n",
       "      <td>ATL</td>\n",
       "      <td>Karim Mane</td>\n",
       "      <td>Guard</td>\n",
       "      <td>0</td>\n",
       "      <td>Healthy</td>\n",
       "    </tr>\n",
       "    <tr>\n",
       "      <th>2</th>\n",
       "      <td>Expected</td>\n",
       "      <td>203932</td>\n",
       "      <td>2020</td>\n",
       "      <td>2020-12-13</td>\n",
       "      <td>ORL</td>\n",
       "      <td>ATL</td>\n",
       "      <td>Aaron Gordon</td>\n",
       "      <td>Forward</td>\n",
       "      <td>1</td>\n",
       "      <td>Healthy</td>\n",
       "    </tr>\n",
       "    <tr>\n",
       "      <th>3</th>\n",
       "      <td>Expected</td>\n",
       "      <td>1630257</td>\n",
       "      <td>2020</td>\n",
       "      <td>2020-12-13</td>\n",
       "      <td>ORL</td>\n",
       "      <td>ATL</td>\n",
       "      <td>Jon Teske</td>\n",
       "      <td>Center</td>\n",
       "      <td>0</td>\n",
       "      <td>Healthy</td>\n",
       "    </tr>\n",
       "    <tr>\n",
       "      <th>4</th>\n",
       "      <td>Expected</td>\n",
       "      <td>1629643</td>\n",
       "      <td>2020</td>\n",
       "      <td>2020-12-13</td>\n",
       "      <td>ORL</td>\n",
       "      <td>ATL</td>\n",
       "      <td>Chuma Okeke</td>\n",
       "      <td>Forward</td>\n",
       "      <td>0</td>\n",
       "      <td>Healthy</td>\n",
       "    </tr>\n",
       "    <tr>\n",
       "      <th>...</th>\n",
       "      <td>...</td>\n",
       "      <td>...</td>\n",
       "      <td>...</td>\n",
       "      <td>...</td>\n",
       "      <td>...</td>\n",
       "      <td>...</td>\n",
       "      <td>...</td>\n",
       "      <td>...</td>\n",
       "      <td>...</td>\n",
       "      <td>...</td>\n",
       "    </tr>\n",
       "    <tr>\n",
       "      <th>222</th>\n",
       "      <td>Expected</td>\n",
       "      <td>1629604</td>\n",
       "      <td>2020</td>\n",
       "      <td>2020-12-13</td>\n",
       "      <td>POR</td>\n",
       "      <td>SAC</td>\n",
       "      <td>CJ Elleby</td>\n",
       "      <td>Forward-Guard</td>\n",
       "      <td>0</td>\n",
       "      <td>Healthy</td>\n",
       "    </tr>\n",
       "    <tr>\n",
       "      <th>223</th>\n",
       "      <td>Expected</td>\n",
       "      <td>203496</td>\n",
       "      <td>2020</td>\n",
       "      <td>2020-12-13</td>\n",
       "      <td>POR</td>\n",
       "      <td>SAC</td>\n",
       "      <td>Robert Covington</td>\n",
       "      <td>Forward</td>\n",
       "      <td>1</td>\n",
       "      <td>Healthy</td>\n",
       "    </tr>\n",
       "    <tr>\n",
       "      <th>224</th>\n",
       "      <td>Expected</td>\n",
       "      <td>203994</td>\n",
       "      <td>2020</td>\n",
       "      <td>2020-12-13</td>\n",
       "      <td>POR</td>\n",
       "      <td>SAC</td>\n",
       "      <td>Jusuf Nurkic</td>\n",
       "      <td>Center</td>\n",
       "      <td>1</td>\n",
       "      <td>GTD</td>\n",
       "    </tr>\n",
       "    <tr>\n",
       "      <th>225</th>\n",
       "      <td>Expected</td>\n",
       "      <td>1628380</td>\n",
       "      <td>2020</td>\n",
       "      <td>2020-12-13</td>\n",
       "      <td>POR</td>\n",
       "      <td>SAC</td>\n",
       "      <td>Zach Collins</td>\n",
       "      <td>Forward-Center</td>\n",
       "      <td>0</td>\n",
       "      <td>OUT</td>\n",
       "    </tr>\n",
       "    <tr>\n",
       "      <th>226</th>\n",
       "      <td>Expected</td>\n",
       "      <td>1627884</td>\n",
       "      <td>2020</td>\n",
       "      <td>2020-12-13</td>\n",
       "      <td>POR</td>\n",
       "      <td>SAC</td>\n",
       "      <td>Derrick Jones Jr.</td>\n",
       "      <td>Forward</td>\n",
       "      <td>1</td>\n",
       "      <td>Healthy</td>\n",
       "    </tr>\n",
       "  </tbody>\n",
       "</table>\n",
       "<p>227 rows × 10 columns</p>\n",
       "</div>"
      ],
      "text/plain": [
       "    LINEUPSTATUS  PLAYERID SEASON        DATE TEAM OPP_TEAM  \\\n",
       "0       Expected   1629962   2020  2020-12-13  ORL      ATL   \n",
       "1       Expected   1630211   2020  2020-12-13  ORL      ATL   \n",
       "2       Expected    203932   2020  2020-12-13  ORL      ATL   \n",
       "3       Expected   1630257   2020  2020-12-13  ORL      ATL   \n",
       "4       Expected   1629643   2020  2020-12-13  ORL      ATL   \n",
       "..           ...       ...    ...         ...  ...      ...   \n",
       "222     Expected   1629604   2020  2020-12-13  POR      SAC   \n",
       "223     Expected    203496   2020  2020-12-13  POR      SAC   \n",
       "224     Expected    203994   2020  2020-12-13  POR      SAC   \n",
       "225     Expected   1628380   2020  2020-12-13  POR      SAC   \n",
       "226     Expected   1627884   2020  2020-12-13  POR      SAC   \n",
       "\n",
       "                  NAME        POSITION  START PLAYERSTATUS  \n",
       "0        Devin Cannady           Guard      0      Healthy  \n",
       "1           Karim Mane           Guard      0      Healthy  \n",
       "2         Aaron Gordon         Forward      1      Healthy  \n",
       "3            Jon Teske          Center      0      Healthy  \n",
       "4          Chuma Okeke         Forward      0      Healthy  \n",
       "..                 ...             ...    ...          ...  \n",
       "222          CJ Elleby   Forward-Guard      0      Healthy  \n",
       "223   Robert Covington         Forward      1      Healthy  \n",
       "224       Jusuf Nurkic          Center      1          GTD  \n",
       "225       Zach Collins  Forward-Center      0          OUT  \n",
       "226  Derrick Jones Jr.         Forward      1      Healthy  \n",
       "\n",
       "[227 rows x 10 columns]"
      ]
     },
     "metadata": {},
     "output_type": "display_data"
    }
   ],
   "source": [
    "current_data = current_data[['LINEUPSTATUS', 'PLAYERID', 'SEASON', 'DATE', 'TEAM', 'OPP_TEAM', 'NAME', 'POSITION', 'START', 'PLAYERSTATUS']]\n",
    "display(current_data)"
   ]
  },
  {
   "cell_type": "code",
   "execution_count": 11,
   "metadata": {},
   "outputs": [
    {
     "name": "stdout",
     "output_type": "stream",
     "text": [
      "60\n",
      "12\n"
     ]
    }
   ],
   "source": [
    "print(len(current_data.loc[current_data['START'] == 1]))\n",
    "print(len(current_data['TEAM'].unique()))"
   ]
  },
  {
   "cell_type": "code",
   "execution_count": 12,
   "metadata": {},
   "outputs": [
    {
     "name": "stdout",
     "output_type": "stream",
     "text": [
      "[]\n"
     ]
    }
   ],
   "source": [
    "print(current_player_data.loc[~current_player_data['NAME'].isin(roster_data['NAME'].unique())]['NAME'].unique())"
   ]
  },
  {
   "cell_type": "code",
   "execution_count": 13,
   "metadata": {},
   "outputs": [
    {
     "name": "stdout",
     "output_type": "stream",
     "text": [
      "        TEAMID SEASON LeagueID              NAME       PLAYER_SLUG NUM  \\\n",
      "13  1610612747   2020       00  Montrezl Harrell  montrezl-harrell  15   \n",
      "\n",
      "          POSITION HEIGHT WEIGHT    BIRTH_DATE   AGE EXP      SCHOOL  \\\n",
      "13  Forward-Center    6-7    240  JAN 26, 1994  26.0   5  Louisville   \n",
      "\n",
      "    PLAYERID TEAM  \n",
      "13   1626149  LAL  \n"
     ]
    }
   ],
   "source": [
    "print(roster_data.loc[roster_data['NAME'].str.contains('Harrell')])"
   ]
  },
  {
   "cell_type": "code",
   "execution_count": null,
   "metadata": {},
   "outputs": [],
   "source": []
  }
 ],
 "metadata": {
  "kernelspec": {
   "display_name": "venv",
   "language": "python",
   "name": "venv"
  },
  "language_info": {
   "codemirror_mode": {
    "name": "ipython",
    "version": 3
   },
   "file_extension": ".py",
   "mimetype": "text/x-python",
   "name": "python",
   "nbconvert_exporter": "python",
   "pygments_lexer": "ipython3",
   "version": "3.7.3"
  }
 },
 "nbformat": 4,
 "nbformat_minor": 4
}

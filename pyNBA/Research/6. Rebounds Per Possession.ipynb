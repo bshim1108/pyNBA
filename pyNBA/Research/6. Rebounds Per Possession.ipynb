{
 "cells": [
  {
   "cell_type": "markdown",
   "metadata": {},
   "source": [
    "# Setup\n",
    "\n",
    "Import the necessary libraries"
   ]
  },
  {
   "cell_type": "code",
   "execution_count": 1,
   "metadata": {},
   "outputs": [
    {
     "name": "stderr",
     "output_type": "stream",
     "text": [
      "/Users/brandonshimiaie/Projects/pyNBA/venv/lib/python3.7/site-packages/outdated/utils.py:18: OutdatedPackageWarning: The package pingouin is out of date. Your version is 0.3.3, the latest is 0.3.8.\n",
      "Set the environment variable OUTDATED_IGNORE=1 to disable these warnings.\n",
      "  **kwargs\n"
     ]
    },
    {
     "data": {
      "text/html": [
       "<style>.container { width:90% !important; }</style>"
      ],
      "text/plain": [
       "<IPython.core.display.HTML object>"
      ]
     },
     "metadata": {},
     "output_type": "display_data"
    }
   ],
   "source": [
    "# for data\n",
    "import pandas as pd\n",
    "pd.set_option('display.max_columns', None)\n",
    "import numpy as np\n",
    "from datetime import datetime, timedelta\n",
    "from pyNBA.Data.data import QueryData\n",
    "from pyNBA.Models.helpers import CleanData\n",
    "import math\n",
    "\n",
    "# for features\n",
    "from pyNBA.Models.features import FeatureCreation\n",
    "from pyNBA.Models.cluster import Cluster, Evaluate\n",
    "from sklearn.feature_selection import SelectFromModel\n",
    "from sklearn.feature_selection import RFE\n",
    "\n",
    "# for plotting\n",
    "import matplotlib.pyplot as plt\n",
    "import seaborn as sns\n",
    "from research import Helpers\n",
    "from statsmodels.graphics.api import abline_plot\n",
    "\n",
    "# for statistical tests\n",
    "from scipy.stats import shapiro\n",
    "import pingouin as pg\n",
    "\n",
    "# for machine learning\n",
    "from sklearn import model_selection, preprocessing, ensemble, neighbors, linear_model, svm, neural_network, metrics\n",
    "import xgboost as xgb\n",
    "from catboost import CatBoostRegressor, Pool\n",
    "from sklearn.model_selection import GridSearchCV\n",
    "from sklearn.model_selection import train_test_split\n",
    "\n",
    "# for explainer\n",
    "from lime import lime_tabular\n",
    "\n",
    "# misc\n",
    "import warnings\n",
    "warnings.filterwarnings('ignore')\n",
    "from IPython.core.display import display, HTML\n",
    "display(HTML(\"<style>.container { width:90% !important; }</style>\"))"
   ]
  },
  {
   "cell_type": "markdown",
   "metadata": {},
   "source": [
    "# Data Analysis\n",
    "Summarize the characteristics of the dataset."
   ]
  },
  {
   "cell_type": "code",
   "execution_count": 2,
   "metadata": {},
   "outputs": [
    {
     "name": "stdout",
     "output_type": "stream",
     "text": [
      "/Users/brandonshimiaie/Projects/pyNBA/sqlite/db/nba.db\n",
      "2.6.0\n"
     ]
    }
   ],
   "source": [
    "feature_creation = FeatureCreation()\n",
    "query_data = QueryData()\n",
    "clean_data = CleanData()\n",
    "helpers = Helpers()\n",
    "\n",
    "# pull boxscore data\n",
    "boxscores = query_data.query_boxscore_data()\n",
    "boxscores = clean_data.select_regular_season_games(boxscores)\n",
    "boxscores = clean_data.drop_rows_player_injured(boxscores)\n",
    "boxscores = clean_data.drop_rows_player_rest(boxscores)"
   ]
  },
  {
   "cell_type": "code",
   "execution_count": 3,
   "metadata": {},
   "outputs": [],
   "source": [
    "team_boxscores = boxscores.groupby(['SEASON', 'DATE', 'TEAM', 'OPP_TEAM']).apply(\n",
    "    lambda x: pd.Series({\n",
    "        'TEAM_POSSESSIONS': x['POSS'].sum()/5,\n",
    "        'TEAM_OREB': x['OREB'].sum(),\n",
    "        'TEAM_DREB': x['DREB'].sum()\n",
    "    })\n",
    ").reset_index()\n",
    "\n",
    "opp_team_boxscores = team_boxscores.drop(columns='OPP_TEAM')\n",
    "opp_team_boxscores = opp_team_boxscores.rename(columns={\n",
    "    'TEAM': 'OPP_TEAM', 'TEAM_POSSESSIONS': 'OPP_TEAM_POSSESSIONS', 'TEAM_OREB': 'OPP_TEAM_OREB', 'TEAM_DREB': 'OPP_TEAM_DREB'\n",
    "    })\n",
    "team_boxscores = team_boxscores.merge(opp_team_boxscores, on=['SEASON', 'DATE', 'OPP_TEAM'], how='left')\n",
    "\n",
    "team_boxscores['TEAM_OREB_CHANCES'] = team_boxscores['TEAM_OREB'] + team_boxscores['OPP_TEAM_DREB']\n",
    "team_boxscores['TEAM_OREB_CHANCES/POSSESSION'] = team_boxscores['TEAM_OREB_CHANCES']/team_boxscores['TEAM_POSSESSIONS']\n",
    "\n",
    "team_boxscores['OPP_TEAM_OREB_CHANCES'] = team_boxscores['TEAM_DREB'] + team_boxscores['OPP_TEAM_OREB']\n",
    "team_boxscores['OPP_TEAM_OREB_CHANCES/POSSESSION'] = \\\n",
    "    team_boxscores['OPP_TEAM_OREB_CHANCES']/team_boxscores['OPP_TEAM_POSSESSIONS']"
   ]
  },
  {
   "cell_type": "code",
   "execution_count": 4,
   "metadata": {},
   "outputs": [],
   "source": [
    "# average team oreb chances/possession\n",
    "team_boxscores = feature_creation.expanding_weighted_mean(\n",
    "    df=team_boxscores, group_col_names=['SEASON', 'TEAM'], col_name='TEAM_OREB_CHANCES/POSSESSION',\n",
    "    new_col_name='AVG_TEAM_OREB_CHANCES/POSSESSION', weight_col_name='TEAM_POSSESSIONS'\n",
    ")"
   ]
  },
  {
   "cell_type": "code",
   "execution_count": 5,
   "metadata": {},
   "outputs": [],
   "source": [
    "# average oreb chances/possession that opp team allowed\n",
    "team_boxscores = feature_creation.expanding_weighted_mean(\n",
    "    df=team_boxscores, group_col_names=['SEASON', 'OPP_TEAM'], col_name='TEAM_OREB_CHANCES/POSSESSION',\n",
    "    new_col_name='AVG_OREB_CHANCES/POSSESSION_OPP_TEAM_ALLOWED', weight_col_name='TEAM_POSSESSIONS'\n",
    ")"
   ]
  },
  {
   "cell_type": "code",
   "execution_count": 6,
   "metadata": {},
   "outputs": [],
   "source": [
    "# average oreb chances/possession allowed that team played against\n",
    "season_stats = team_boxscores.groupby(['SEASON', 'TEAM']).apply(\n",
    "    lambda x: pd.Series({\n",
    "        'TEAM_OREB_CHANCES(SEASON)': x['TEAM_OREB_CHANCES'].mean(),\n",
    "        'TEAM_POSSESSIONS(SEASON)': x['TEAM_POSSESSIONS'].mean(),\n",
    "        'TEAM_OREB_CHANCES_ALLOWED(SEASON)': x['OPP_TEAM_OREB_CHANCES'].mean(),\n",
    "        'TEAM_POSSESSIONS_ALLOWED(SEASON)': x['OPP_TEAM_POSSESSIONS'].mean(),\n",
    "    })\n",
    ").reset_index()\n",
    "\n",
    "season_stats['TEAM_OREB_CHANCES/POSSESSION(SEASON)'] = \\\n",
    "    season_stats['TEAM_OREB_CHANCES(SEASON)']/season_stats['TEAM_POSSESSIONS(SEASON)']\n",
    "season_stats['TEAM_OREB_CHANCES/POSSESSION_ALLOWED(SEASON)'] = \\\n",
    "    season_stats['TEAM_OREB_CHANCES_ALLOWED(SEASON)']/season_stats['TEAM_POSSESSIONS_ALLOWED(SEASON)']\n",
    "\n",
    "opp_season_stats = season_stats.rename(columns={\n",
    "    'TEAM': 'OPP_TEAM', 'TEAM_OREB_CHANCES(SEASON)': 'OPP_TEAM_OREB_CHANCES(SEASON)',\n",
    "    'TEAM_POSSESSIONS(SEASON)': 'OPP_TEAM_POSSESSIONS(SEASON)',\n",
    "    'TEAM_OREB_CHANCES_ALLOWED(SEASON)': 'OPP_TEAM_OREB_CHANCES_ALLOWED(SEASON)',\n",
    "    'TEAM_POSSESSIONS_ALLOWED(SEASON)': 'OPP_TEAM_POSSESSIONS_ALLOWED(SEASON)',\n",
    "    'TEAM_OREB_CHANCES/POSSESSION(SEASON)': 'OPP_TEAM_OREB_CHANCES/POSSESSION(SEASON)',\n",
    "    'TEAM_OREB_CHANCES/POSSESSION_ALLOWED(SEASON)': 'OPP_TEAM_OREB_CHANCES/POSSESSION_ALLOWED(SEASON)'\n",
    "    })\n",
    "\n",
    "\n",
    "team_boxscores = team_boxscores.merge(season_stats, on=['SEASON', 'TEAM'], how='left')\n",
    "team_boxscores = team_boxscores.merge(opp_season_stats, on=['SEASON', 'OPP_TEAM'], how='left')\n",
    "\n",
    "team_boxscores = feature_creation.expanding_weighted_mean(\n",
    "    df=team_boxscores, group_col_names=['SEASON', 'TEAM'], col_name='OPP_TEAM_OREB_CHANCES/POSSESSION_ALLOWED(SEASON)',\n",
    "    new_col_name='AVG_OREB_CHANCES/POSSESSION_ALLOWED(SEASON)_TEAM_P.A.', weight_col_name='TEAM_POSSESSIONS'\n",
    ")"
   ]
  },
  {
   "cell_type": "code",
   "execution_count": 7,
   "metadata": {},
   "outputs": [],
   "source": [
    "# average oreb chances/possession that opp team played against\n",
    "team_boxscores = feature_creation.expanding_weighted_mean(\n",
    "    df=team_boxscores, group_col_names=['SEASON', 'OPP_TEAM'], col_name='TEAM_OREB_CHANCES/POSSESSION(SEASON)',\n",
    "    new_col_name='AVG_OREB_CHANCES/POSSESSION(SEASON)_OPP_TEAM_P.A.', weight_col_name='OPP_TEAM_POSSESSIONS'\n",
    ")"
   ]
  },
  {
   "cell_type": "code",
   "execution_count": 8,
   "metadata": {},
   "outputs": [],
   "source": [
    "# team oreb chances/possession\n",
    "team_boxscores['TEAM_OREB_CHANCES/POSSESSION_HAT'] = \\\n",
    "    2*team_boxscores['AVG_TEAM_OREB_CHANCES/POSSESSION'] - \\\n",
    "        team_boxscores['AVG_OREB_CHANCES/POSSESSION_ALLOWED(SEASON)_TEAM_P.A.']\n",
    "\n",
    "# opp team oreb chances/possession allowed\n",
    "team_boxscores['OPP_TEAM_OREB_CHANCES/POSSESSION_ALLOWED_HAT'] = \\\n",
    "    2*team_boxscores['AVG_OREB_CHANCES/POSSESSION_OPP_TEAM_ALLOWED'] - \\\n",
    "        team_boxscores['AVG_OREB_CHANCES/POSSESSION(SEASON)_OPP_TEAM_P.A.']"
   ]
  },
  {
   "cell_type": "code",
   "execution_count": 9,
   "metadata": {},
   "outputs": [],
   "source": [
    "# average player oreb/chance\n",
    "boxscores = boxscores.merge(team_boxscores, on=['SEASON', 'DATE', 'TEAM', 'OPP_TEAM'], how='left')\n",
    "\n",
    "boxscores['OREB_CHANCES'] = np.nan\n",
    "boxscores.loc[boxscores['OREB'] > 0, 'OREB_CHANCES'] = (\n",
    "    boxscores.loc[boxscores['OREB'] > 0, 'OREB'] / boxscores.loc[boxscores['OREB'] > 0, 'OREB_PCT']\n",
    "    ).apply(lambda x: round(x))\n",
    "boxscores.loc[boxscores['OREB'] == 0, 'OREB_CHANCES'] = \\\n",
    "    boxscores.loc[boxscores['OREB'] == 0, 'TEAM_OREB_CHANCES/POSSESSION']*boxscores.loc[boxscores['OREB'] == 0, 'POSS']\n",
    "boxscores['OREB/OREB_CHANCE'] = boxscores['OREB']/boxscores['OREB_CHANCES']\n",
    "\n",
    "boxscores = feature_creation.expanding_weighted_mean(\n",
    "    df=boxscores, group_col_names=['SEASON', 'TEAM', 'PLAYERID'], col_name='OREB/OREB_CHANCE',\n",
    "    new_col_name='AVG_OREB/OREB_CHANCE', weight_col_name='OREB_CHANCES'\n",
    ")"
   ]
  },
  {
   "cell_type": "code",
   "execution_count": 10,
   "metadata": {},
   "outputs": [],
   "source": [
    "# average player dreb/chance\n",
    "boxscores['TEAM_DREB_CHANCES/POSSESSION'] = boxscores['OPP_TEAM_OREB_CHANCES/POSSESSION']\n",
    "\n",
    "boxscores['DREB_CHANCES'] = np.nan\n",
    "boxscores.loc[boxscores['DREB'] > 0, 'DREB_CHANCES'] = (\n",
    "    boxscores.loc[boxscores['DREB'] > 0, 'DREB'] / boxscores.loc[boxscores['DREB'] > 0, 'DREB_PCT']\n",
    "    ).apply(lambda x: round(x))\n",
    "boxscores.loc[boxscores['DREB'] == 0, 'DREB_CHANCES'] = \\\n",
    "    boxscores.loc[boxscores['OREB'] == 0, 'TEAM_DREB_CHANCES/POSSESSION']*boxscores.loc[boxscores['DREB'] == 0, 'POSS']\n",
    "boxscores['DREB/DREB_CHANCE'] = boxscores['DREB']/boxscores['DREB_CHANCES']\n",
    "\n",
    "boxscores = feature_creation.expanding_weighted_mean(\n",
    "    df=boxscores, group_col_names=['SEASON', 'TEAM', 'PLAYERID'], col_name='DREB/DREB_CHANCE',\n",
    "    new_col_name='AVG_DREB/DREB_CHANCE', weight_col_name='DREB_CHANCES'\n",
    ")"
   ]
  },
  {
   "cell_type": "code",
   "execution_count": 11,
   "metadata": {},
   "outputs": [],
   "source": [
    "# average oreb/oreb chance that opp team allowed\n",
    "boxscores['NORMALIZED_POSITION'] = boxscores['POSITION'].apply(lambda x: x if '-' not in x else x.split('-')[0])\n",
    "\n",
    "team_position_game_boxscores = boxscores.groupby(['SEASON', 'DATE', 'NORMALIZED_POSITION', 'TEAM', 'OPP_TEAM']).apply(\n",
    "    lambda x: pd.Series({\n",
    "        'TEAM_POSITION_OREB': x['OREB'].sum(),\n",
    "        'TEAM_POSITION_OREB_CHANCES': x['OREB_CHANCES'].sum(),\n",
    "        'TEAM_POSITION_DREB': x['DREB'].sum(),\n",
    "        'TEAM_POSITION_DREB_CHANCES': x['DREB_CHANCES'].sum()\n",
    "    })\n",
    ").reset_index()\n",
    "\n",
    "opp_team_position_game_boxscores = team_position_game_boxscores.drop(columns='OPP_TEAM')\n",
    "opp_team_position_game_boxscores = opp_team_position_game_boxscores.rename(columns={\n",
    "    'TEAM': 'OPP_TEAM', 'TEAM_POSITION_OREB': 'OPP_TEAM_POSITION_OREB',\n",
    "    'TEAM_POSITION_OREB_CHANCES': 'OPP_TEAM_POSITION_OREB_CHANCES', 'TEAM_POSITION_DREB': 'OPP_TEAM_POSITION_DREB',\n",
    "    'TEAM_POSITION_DREB_CHANCES': 'OPP_TEAM_POSITION_DREB_CHANCES'\n",
    "    })\n",
    "team_position_game_boxscores = team_position_game_boxscores.merge(\n",
    "    opp_team_position_game_boxscores, on=['SEASON', 'DATE', 'NORMALIZED_POSITION', 'OPP_TEAM'], how='left'\n",
    "    )\n",
    "\n",
    "team_position_game_boxscores['TEAM_POSITION_OREB/OREB_CHANCE'] = \\\n",
    "    team_position_game_boxscores['TEAM_POSITION_OREB']/team_position_game_boxscores['TEAM_POSITION_OREB_CHANCES']\n",
    "\n",
    "team_position_game_boxscores = feature_creation.expanding_weighted_mean(\n",
    "    df=team_position_game_boxscores, group_col_names=['SEASON', 'NORMALIZED_POSITION', 'OPP_TEAM'],\n",
    "    col_name='TEAM_POSITION_OREB/OREB_CHANCE', new_col_name='AVG_TEAM_POSITION_OREB/OREB_CHANCE_OPP_ALLOWED',\n",
    "    weight_col_name='TEAM_POSITION_OREB_CHANCES'\n",
    ")"
   ]
  },
  {
   "cell_type": "code",
   "execution_count": 12,
   "metadata": {},
   "outputs": [],
   "source": [
    "# average dreb/dreb chance that opp team allowed\n",
    "team_position_game_boxscores['TEAM_POSITION_DREB/DREB_CHANCE'] = \\\n",
    "    team_position_game_boxscores['TEAM_POSITION_DREB']/team_position_game_boxscores['TEAM_POSITION_DREB_CHANCES']\n",
    "\n",
    "team_position_game_boxscores = feature_creation.expanding_weighted_mean(\n",
    "    df=team_position_game_boxscores, group_col_names=['SEASON', 'NORMALIZED_POSITION', 'OPP_TEAM'],\n",
    "    col_name='TEAM_POSITION_DREB/DREB_CHANCE', new_col_name='AVG_TEAM_POSITION_DREB/DREB_CHANCE_OPP_ALLOWED',\n",
    "    weight_col_name='TEAM_POSITION_DREB_CHANCES'\n",
    ")"
   ]
  },
  {
   "cell_type": "code",
   "execution_count": 13,
   "metadata": {},
   "outputs": [],
   "source": [
    "boxscores = boxscores.merge(\n",
    "    team_position_game_boxscores, on=['SEASON', 'DATE', 'NORMALIZED_POSITION', 'TEAM', 'OPP_TEAM'], how='left'\n",
    ")"
   ]
  },
  {
   "cell_type": "code",
   "execution_count": 14,
   "metadata": {},
   "outputs": [],
   "source": [
    "# average oreb/oreb chance allowed that player played against\n",
    "team_position_season_boxscores = team_position_game_boxscores.groupby(\n",
    "    ['SEASON', 'NORMALIZED_POSITION', 'TEAM']\n",
    "    ).apply(\n",
    "    lambda x: pd.Series({\n",
    "        'TEAM_POSITION_OREB(SEASON)': x['TEAM_POSITION_OREB'].mean(),\n",
    "        'TEAM_POSITION_OREB_CHANCES(SEASON)': x['TEAM_POSITION_OREB_CHANCES'].mean(),\n",
    "        'TEAM_POSITION_DREB(SEASON)': x['TEAM_POSITION_DREB'].mean(),\n",
    "        'TEAM_POSITION_DREB_CHANCES(SEASON)': x['TEAM_POSITION_DREB_CHANCES'].mean(),\n",
    "        'TEAM_POSITION_OREB_ALLOWED(SEASON)': x['OPP_TEAM_POSITION_OREB'].mean(),\n",
    "        'TEAM_POSITION_OREB_CHANCES_ALLOWED(SEASON)': x['OPP_TEAM_POSITION_OREB_CHANCES'].mean(),\n",
    "        'TEAM_POSITION_DREB_ALLOWED(SEASON)': x['OPP_TEAM_POSITION_DREB'].mean(),\n",
    "        'TEAM_POSITION_DREB_CHANCES_ALLOWED(SEASON)': x['OPP_TEAM_POSITION_DREB_CHANCES'].mean(),\n",
    "    })\n",
    ").reset_index()\n",
    "\n",
    "opp_team_position_season_boxscores = team_position_season_boxscores.rename(columns={\n",
    "    'TEAM': 'OPP_TEAM',\n",
    "    'TEAM_POSITION_OREB(SEASON)': 'OPP_TEAM_POSITION_OREB(SEASON)',\n",
    "    'TEAM_POSITION_OREB_CHANCES(SEASON)': 'OPP_TEAM_POSITION_OREB_CHANCES(SEASON)',\n",
    "    'TEAM_POSITION_DREB(SEASON)': 'OPP_TEAM_POSITION_DREB(SEASON)',\n",
    "    'TEAM_POSITION_DREB_CHANCES(SEASON)': 'OPP_TEAM_POSITION_DREB_CHANCES(SEASON)',\n",
    "    'TEAM_POSITION_OREB_ALLOWED(SEASON)': 'OPP_TEAM_POSITION_OREB_ALLOWED(SEASON)',\n",
    "    'TEAM_POSITION_OREB_CHANCES_ALLOWED(SEASON)': 'OPP_TEAM_POSITION_OREB_CHANCES_ALLOWED(SEASON)',\n",
    "    'TEAM_POSITION_DREB_ALLOWED(SEASON)': 'OPP_TEAM_POSITION_DREB_ALLOWED(SEASON)',\n",
    "    'TEAM_POSITION_DREB_CHANCES_ALLOWED(SEASON)': 'OPP_TEAM_POSITION_DREB_CHANCES_ALLOWED(SEASON)',\n",
    "    })\n",
    "\n",
    "boxscores = boxscores.merge(\n",
    "    team_position_season_boxscores, on=['SEASON', 'NORMALIZED_POSITION', 'TEAM'], how='left'\n",
    ")\n",
    "boxscores = boxscores.merge(\n",
    "    opp_team_position_season_boxscores, on=['SEASON', 'NORMALIZED_POSITION', 'OPP_TEAM'], how='left'\n",
    ")\n",
    "\n",
    "boxscores['OPP_TEAM_POSITION_OREB/OREB_CHANCE_ALLOWED(SEASON)'] = \\\n",
    "    boxscores['OPP_TEAM_POSITION_OREB_ALLOWED(SEASON)'] / boxscores['OPP_TEAM_POSITION_OREB_CHANCES_ALLOWED(SEASON)']\n",
    "\n",
    "boxscores = feature_creation.expanding_weighted_mean(\n",
    "    df=boxscores, group_col_names=['SEASON', 'NORMALIZED_POSITION', 'TEAM', 'PLAYERID'],\n",
    "    col_name='OPP_TEAM_POSITION_OREB/OREB_CHANCE_ALLOWED(SEASON)',\n",
    "    new_col_name='AVG_TEAM_POSITION_OREB/OREB_CHANCE(SEASON)_ALLOWED_PLAYER_P.A',\n",
    "    weight_col_name='OREB_CHANCES'\n",
    ")"
   ]
  },
  {
   "cell_type": "code",
   "execution_count": 15,
   "metadata": {},
   "outputs": [],
   "source": [
    "# average dreb/dreb chance allowed that player played against\n",
    "boxscores['OPP_TEAM_POSITION_DREB/DREB_CHANCE_ALLOWED(SEASON)'] = \\\n",
    "    boxscores['OPP_TEAM_POSITION_DREB_ALLOWED(SEASON)'] / boxscores['OPP_TEAM_POSITION_DREB_CHANCES_ALLOWED(SEASON)']\n",
    "\n",
    "boxscores = feature_creation.expanding_weighted_mean(\n",
    "    df=boxscores, group_col_names=['SEASON', 'NORMALIZED_POSITION', 'TEAM', 'PLAYERID'],\n",
    "    col_name='OPP_TEAM_POSITION_DREB/DREB_CHANCE_ALLOWED(SEASON)',\n",
    "    new_col_name='AVG_TEAM_POSITION_DREB/DREB_CHANCE(SEASON)_ALLOWED_PLAYER_P.A',\n",
    "    weight_col_name='DREB_CHANCES'\n",
    ")"
   ]
  },
  {
   "cell_type": "code",
   "execution_count": 16,
   "metadata": {},
   "outputs": [],
   "source": [
    "# oreb/oreb chance defense\n",
    "boxscores['OREB/OREB(CH)_DEF'] = \\\n",
    "    boxscores['AVG_TEAM_POSITION_OREB/OREB_CHANCE_OPP_ALLOWED'] / \\\n",
    "        boxscores['AVG_TEAM_POSITION_OREB/OREB_CHANCE(SEASON)_ALLOWED_PLAYER_P.A']\n",
    "\n",
    "# dreb/dreb chance defense\n",
    "boxscores['DREB/DREB(CH)_DEF'] = \\\n",
    "    boxscores['AVG_TEAM_POSITION_DREB/DREB_CHANCE_OPP_ALLOWED'] / \\\n",
    "        boxscores['AVG_TEAM_POSITION_DREB/DREB_CHANCE(SEASON)_ALLOWED_PLAYER_P.A']"
   ]
  },
  {
   "cell_type": "code",
   "execution_count": 27,
   "metadata": {},
   "outputs": [
    {
     "data": {
      "text/html": [
       "<div>\n",
       "<style scoped>\n",
       "    .dataframe tbody tr th:only-of-type {\n",
       "        vertical-align: middle;\n",
       "    }\n",
       "\n",
       "    .dataframe tbody tr th {\n",
       "        vertical-align: top;\n",
       "    }\n",
       "\n",
       "    .dataframe thead th {\n",
       "        text-align: right;\n",
       "    }\n",
       "</style>\n",
       "<table border=\"1\" class=\"dataframe\">\n",
       "  <thead>\n",
       "    <tr style=\"text-align: right;\">\n",
       "      <th></th>\n",
       "      <th>POSITION</th>\n",
       "      <th>SECONDSPLAYED</th>\n",
       "      <th>START</th>\n",
       "      <th>TEAM</th>\n",
       "      <th>DATE</th>\n",
       "      <th>NAME</th>\n",
       "      <th>AVG_DREB/DREB_CHANCE</th>\n",
       "      <th>AVG_OREB/OREB_CHANCE</th>\n",
       "      <th>AVG_POSS</th>\n",
       "      <th>AVG_TEAM_POSITION_DREB/DREB_CHANCE_OPP_ALLOWED</th>\n",
       "      <th>AVG_TEAM_POSITION_DREB/DREB_CHANCE(SEASON)_ALLOWED_PLAYER_P.A</th>\n",
       "    </tr>\n",
       "  </thead>\n",
       "  <tbody>\n",
       "    <tr>\n",
       "      <th>140801</th>\n",
       "      <td>Forward</td>\n",
       "      <td>2174</td>\n",
       "      <td>1</td>\n",
       "      <td>CHA</td>\n",
       "      <td>2020-02-04</td>\n",
       "      <td>Cody Martin</td>\n",
       "      <td>0.150616</td>\n",
       "      <td>0.046019</td>\n",
       "      <td>34.272727</td>\n",
       "      <td>0.165859</td>\n",
       "      <td>0.159033</td>\n",
       "    </tr>\n",
       "    <tr>\n",
       "      <th>144068</th>\n",
       "      <td>Forward</td>\n",
       "      <td>2054</td>\n",
       "      <td>1</td>\n",
       "      <td>CHA</td>\n",
       "      <td>2020-03-03</td>\n",
       "      <td>Cody Martin</td>\n",
       "      <td>0.154452</td>\n",
       "      <td>0.042238</td>\n",
       "      <td>37.825000</td>\n",
       "      <td>0.174850</td>\n",
       "      <td>0.160011</td>\n",
       "    </tr>\n",
       "    <tr>\n",
       "      <th>145199</th>\n",
       "      <td>Forward</td>\n",
       "      <td>1944</td>\n",
       "      <td>1</td>\n",
       "      <td>CHA</td>\n",
       "      <td>2020-03-11</td>\n",
       "      <td>Cody Martin</td>\n",
       "      <td>0.151800</td>\n",
       "      <td>0.040369</td>\n",
       "      <td>40.068182</td>\n",
       "      <td>0.158795</td>\n",
       "      <td>0.159855</td>\n",
       "    </tr>\n",
       "  </tbody>\n",
       "</table>\n",
       "</div>"
      ],
      "text/plain": [
       "       POSITION  SECONDSPLAYED  START TEAM        DATE         NAME  \\\n",
       "140801  Forward           2174      1  CHA  2020-02-04  Cody Martin   \n",
       "144068  Forward           2054      1  CHA  2020-03-03  Cody Martin   \n",
       "145199  Forward           1944      1  CHA  2020-03-11  Cody Martin   \n",
       "\n",
       "        AVG_DREB/DREB_CHANCE  AVG_OREB/OREB_CHANCE   AVG_POSS  \\\n",
       "140801              0.150616              0.046019  34.272727   \n",
       "144068              0.154452              0.042238  37.825000   \n",
       "145199              0.151800              0.040369  40.068182   \n",
       "\n",
       "        AVG_TEAM_POSITION_DREB/DREB_CHANCE_OPP_ALLOWED  \\\n",
       "140801                                        0.165859   \n",
       "144068                                        0.174850   \n",
       "145199                                        0.158795   \n",
       "\n",
       "        AVG_TEAM_POSITION_DREB/DREB_CHANCE(SEASON)_ALLOWED_PLAYER_P.A  \n",
       "140801                                           0.159033              \n",
       "144068                                           0.160011              \n",
       "145199                                           0.159855              "
      ]
     },
     "metadata": {},
     "output_type": "display_data"
    }
   ],
   "source": [
    "boxscores = feature_creation.expanding_mean(\n",
    "    df=boxscores, group_col_names=['SEASON', 'TEAM', 'PLAYERID'],\n",
    "    col_name='POSS',\n",
    "    new_col_name='AVG_POSS'\n",
    ")\n",
    "\n",
    "display(boxscores.loc[(boxscores['NAME'] == 'Cody Martin') & (boxscores['START'] == 1),\n",
    "                      ['POSITION', 'SECONDSPLAYED', 'START', 'TEAM', 'DATE', 'NAME',\n",
    "                       'AVG_DREB/DREB_CHANCE', 'AVG_OREB/OREB_CHANCE', 'AVG_POSS', 'AVG_TEAM_POSITION_DREB/DREB_CHANCE_OPP_ALLOWED', 'AVG_TEAM_POSITION_DREB/DREB_CHANCE(SEASON)_ALLOWED_PLAYER_P.A']\n",
    "                     ].tail(20))"
   ]
  },
  {
   "cell_type": "code",
   "execution_count": null,
   "metadata": {},
   "outputs": [],
   "source": []
  }
 ],
 "metadata": {
  "kernelspec": {
   "display_name": "venv",
   "language": "python",
   "name": "venv"
  },
  "language_info": {
   "codemirror_mode": {
    "name": "ipython",
    "version": 3
   },
   "file_extension": ".py",
   "mimetype": "text/x-python",
   "name": "python",
   "nbconvert_exporter": "python",
   "pygments_lexer": "ipython3",
   "version": "3.7.3"
  }
 },
 "nbformat": 4,
 "nbformat_minor": 4
}

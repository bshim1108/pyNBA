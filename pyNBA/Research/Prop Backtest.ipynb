{
 "cells": [
  {
   "cell_type": "code",
   "execution_count": 111,
   "metadata": {},
   "outputs": [
    {
     "data": {
      "text/html": [
       "<style>.container { width:90% !important; }</style>"
      ],
      "text/plain": [
       "<IPython.core.display.HTML object>"
      ]
     },
     "metadata": {},
     "output_type": "display_data"
    }
   ],
   "source": [
    "import numpy as np\n",
    "import pandas as pd\n",
    "pd.options.mode.chained_assignment = None\n",
    "from functools import reduce\n",
    "from datetime import datetime\n",
    "from pyNBA.Models.features import FeatureCreation\n",
    "from pyNBA.Data.data import QueryData\n",
    "from pyNBA.Models.helpers import CleanData\n",
    "from research import Helpers\n",
    "from pyNBA.Models.StatsV2Backtest.minutesplayed import MinutesPlayed\n",
    "from pyNBA.Models.StatsV2Backtest.possessionsperminute import PossessionsPerMinute\n",
    "from pyNBA.Models.StatsV2Backtest.pointsperpossession import PointsPerPossession\n",
    "from pyNBA.Models.StatsV2Backtest.assistsperpossession import AssistsPerPossession\n",
    "from pyNBA.Models.StatsV2Backtest.reboundsperpossession import ReboundsPerPossession\n",
    "from pyNBA.Models.StatsV2Backtest.turnoversperpossession import TurnoversPerPossession\n",
    "\n",
    "import warnings\n",
    "warnings.filterwarnings('ignore')\n",
    "from IPython.core.display import display, HTML\n",
    "display(HTML(\"<style>.container { width:90% !important; }</style>\"))"
   ]
  },
  {
   "cell_type": "code",
   "execution_count": 2,
   "metadata": {},
   "outputs": [
    {
     "name": "stdout",
     "output_type": "stream",
     "text": [
      "/Users/brandonshimiaie/Projects/pyNBA/sqlite/db/nba.db\n",
      "2.6.0\n"
     ]
    }
   ],
   "source": [
    "query_data = QueryData(update=False)\n",
    "clean_data = CleanData()\n",
    "\n",
    "boxscores = query_data.query_boxscore_data()\n",
    "boxscores = boxscores.loc[boxscores['SEASONTYPE'] == 'Regular Season']\n",
    "boxscores = clean_data.drop_rows_player_injured(boxscores)"
   ]
  },
  {
   "cell_type": "code",
   "execution_count": 3,
   "metadata": {},
   "outputs": [
    {
     "name": "stdout",
     "output_type": "stream",
     "text": [
      "generating minutes data...\n",
      "/Users/brandonshimiaie/Projects/pyNBA/sqlite/db/nba.db\n",
      "2.6.0\n",
      "generating possessions/minute data...\n",
      "generating points/possession data...\n",
      "generating rebounds/possession data...\n",
      "generating assists/possession data...\n",
      "generating turnovers/possession data...\n"
     ]
    }
   ],
   "source": [
    "start_date = boxscores['DATE'].min()\n",
    "end_date = boxscores['DATE'].max()\n",
    "\n",
    "print('generating minutes data...')\n",
    "mp_out = MinutesPlayed().predict(boxscores, start_date, end_date, update=False)\n",
    "\n",
    "print('generating possessions/minute data...')\n",
    "ppm_out = PossessionsPerMinute().predict(boxscores, start_date, end_date)\n",
    "\n",
    "print('generating points/possession data...')\n",
    "ppp_out = PointsPerPossession().predict(boxscores, start_date, end_date)\n",
    "\n",
    "print('generating rebounds/possession data...')\n",
    "rpp_out = ReboundsPerPossession().predict(boxscores, start_date, end_date)\n",
    "\n",
    "print('generating assists/possession data...')\n",
    "app_out = AssistsPerPossession().predict(boxscores, start_date, end_date)\n",
    "\n",
    "print('generating turnovers/possession data...')\n",
    "tpp_out = TurnoversPerPossession().predict(boxscores, start_date, end_date)"
   ]
  },
  {
   "cell_type": "code",
   "execution_count": 4,
   "metadata": {},
   "outputs": [],
   "source": [
    "predicted_boxscores = reduce(\n",
    "    lambda left, right: pd.merge(\n",
    "        left, right, on=['SEASON', 'DATE', 'TEAM', 'OPP_TEAM', 'PLAYERID', 'START']\n",
    "        ), [mp_out, ppm_out, ppp_out, app_out, rpp_out, tpp_out]\n",
    "        )"
   ]
  },
  {
   "cell_type": "code",
   "execution_count": 120,
   "metadata": {},
   "outputs": [],
   "source": [
    "team_boxscores = predicted_boxscores.groupby(['SEASON', 'DATE', 'TEAM', 'OPP_TEAM']).apply(\n",
    "    lambda x: pd.Series({\n",
    "        'MED_TEAM_POSS/MP': x['POSS/MP'].median(),\n",
    "        'MIN_STARTER_MP': x.loc[x['START'] == 1]['AVG_MP(REG)_R'].min(),\n",
    "        'MED_BENCH_MP': x.loc[x['START'] == 0]['AVG_MP(REG)_R'].median(),\n",
    "        'MED_TEAM_OREB/CH': x['OREB/CH'].median(),\n",
    "        'MED_TEAM_DREB/CH': x['DREB/CH'].median(),\n",
    "        'MIN_STARTER_A/P': x.loc[x['START'] == 1]['ATT/POSS'].min(),\n",
    "        'MED_BENCH_A/P': x.loc[x['START'] == 0]['ATT/POSS'].median(),\n",
    "        'MED_TEAM_TOV/POSS': x['TOV/POSS'].median(),\n",
    "        'TEAM_OREB(CH)/POSS': x['OREB(CH)/POSS'].mean(),\n",
    "        'TEAM_OREB(CH)/POSS_DEF': x['OREB(CH)/POSS_DEF'].mean()\n",
    "    })\n",
    ").reset_index()\n",
    "\n",
    "opp_team_boxscores = team_boxscores.drop(columns=[\n",
    "    'OPP_TEAM', 'MED_TEAM_POSS/MP', 'MIN_STARTER_MP', 'MED_BENCH_MP', 'MED_TEAM_OREB/CH', 'MED_TEAM_DREB/CH',\n",
    "    'MIN_STARTER_A/P', 'MED_BENCH_A/P', 'MED_TEAM_TOV/POSS'\n",
    "])\n",
    "opp_team_boxscores = opp_team_boxscores.rename(columns={\n",
    "    'TEAM': 'OPP_TEAM', 'TEAM_OREB(CH)/POSS': 'OPP_TEAM_OREB(CH)/POSS', 'TEAM_OREB(CH)/POSS_DEF': 'OPP_TEAM_OREB(CH)/POSS_DEF'\n",
    "    })\n",
    "team_boxscores = team_boxscores.merge(opp_team_boxscores, on=['SEASON', 'DATE', 'OPP_TEAM'], how='left')"
   ]
  },
  {
   "cell_type": "code",
   "execution_count": 121,
   "metadata": {},
   "outputs": [],
   "source": [
    "season_stats = predicted_boxscores.groupby(['SEASON']).apply(\n",
    "    lambda x: pd.Series({\n",
    "        'SEASON_PTS/ATT': x['PTS/ATT'].median()\n",
    "    })\n",
    ").reset_index()"
   ]
  },
  {
   "cell_type": "code",
   "execution_count": 122,
   "metadata": {},
   "outputs": [],
   "source": [
    "temp = predicted_boxscores.merge(team_boxscores, on=['SEASON', 'DATE', 'TEAM', 'OPP_TEAM'], how='left')\n",
    "temp = temp.merge(season_stats, on=['SEASON'], how='left')"
   ]
  },
  {
   "cell_type": "code",
   "execution_count": 123,
   "metadata": {},
   "outputs": [],
   "source": [
    "temp['POSS/MP'] = temp['POSS/MP'].fillna(temp['MED_TEAM_POSS/MP'])\n",
    "temp.loc[temp['START'] == 1, 'AVG_MP(REG)_R'] = temp.loc[temp['START'] == 1, 'AVG_MP(REG)_R'].fillna(temp['MIN_STARTER_MP'])\n",
    "temp.loc[temp['START'] == 0, 'AVG_MP(REG)_R'] = temp.loc[temp['START'] == 0, 'AVG_MP(REG)_R'].fillna(temp['MED_BENCH_MP'])\n",
    "temp['OREB/CH'] = temp['OREB/CH'].fillna(temp['MED_TEAM_OREB/CH'])\n",
    "temp['DREB/CH'] = temp['DREB/CH'].fillna(temp['MED_TEAM_DREB/CH'])\n",
    "temp.loc[temp['START'] == 1, 'ATT/POSS'] = temp.loc[temp['START'] == 1, 'ATT/POSS'].fillna(temp['MIN_STARTER_A/P'])\n",
    "temp.loc[temp['START'] == 0, 'ATT/POSS'] = temp.loc[temp['START'] == 0, 'ATT/POSS'].fillna(temp['MED_BENCH_A/P'])\n",
    "temp['TOV/POSS'] = temp['TOV/POSS'].fillna(temp['MED_TEAM_TOV/POSS'])\n",
    "temp['PTS/ATT'] = temp['PTS/ATT'].fillna(temp['SEASON_PTS/ATT'])"
   ]
  },
  {
   "cell_type": "code",
   "execution_count": 124,
   "metadata": {},
   "outputs": [],
   "source": [
    "temp['POSS/MP_REAL'] = (temp['POSS/MP'] + temp['POSS/MP_DEF'])/2\n",
    "temp['OREB(CH)/POSS_REAL'] = (temp['TEAM_OREB(CH)/POSS'] + temp['TEAM_OREB(CH)/POSS_DEF'])/2\n",
    "temp['OPP_OREB(CH)/POSS_REAL'] = (temp['OPP_TEAM_OREB(CH)/POSS'] + temp['OPP_TEAM_OREB(CH)/POSS_DEF'])/2\n",
    "temp['OREB/CH_REAL'] = temp['OREB/CH'] * temp['OREB/CH_DEF']\n",
    "temp['DREB/CH_REAL'] = temp['DREB/CH'] * temp['DREB/CH_DEF']"
   ]
  },
  {
   "cell_type": "code",
   "execution_count": 125,
   "metadata": {},
   "outputs": [],
   "source": [
    "aggregated_stats = temp.groupby(['SEASON', 'DATE', 'TEAM', 'OPP_TEAM']).apply(\n",
    "    lambda x: pd.Series({\n",
    "        'TEAM_MP': x['AVG_MP(REG)_R'].sum()\n",
    "    })\n",
    ").reset_index()"
   ]
  },
  {
   "cell_type": "code",
   "execution_count": 126,
   "metadata": {},
   "outputs": [],
   "source": [
    "temp = temp.merge(aggregated_stats, on=['SEASON', 'DATE', 'TEAM', 'OPP_TEAM'], how='left')"
   ]
  },
  {
   "cell_type": "code",
   "execution_count": 127,
   "metadata": {},
   "outputs": [],
   "source": [
    "temp['MP_REAL'] = 240*temp['AVG_MP(REG)_R']/temp['TEAM_MP']\n",
    "temp['IMPLIED_POSS'] = temp['MP_REAL'] * temp['POSS/MP_REAL']"
   ]
  },
  {
   "cell_type": "code",
   "execution_count": 128,
   "metadata": {},
   "outputs": [],
   "source": [
    "aggregated_stats = temp.groupby(['SEASON', 'DATE', 'TEAM', 'OPP_TEAM']).apply(\n",
    "    lambda x: pd.Series({\n",
    "        'IMPLIED_TEAM_POSS': x['IMPLIED_POSS'].sum()/5\n",
    "    })\n",
    ").reset_index()\n",
    "\n",
    "opp_aggregated_stats = aggregated_stats.drop(columns=['OPP_TEAM'])\n",
    "opp_aggregated_stats = opp_aggregated_stats.rename(columns={\n",
    "    'TEAM': 'OPP_TEAM', 'IMPLIED_TEAM_POSS': 'IMPLIED_OPP_TEAM_POSS'\n",
    "    })\n",
    "aggregated_stats = aggregated_stats.merge(opp_aggregated_stats, on=['SEASON', 'DATE', 'OPP_TEAM'], how='left')"
   ]
  },
  {
   "cell_type": "code",
   "execution_count": 129,
   "metadata": {},
   "outputs": [],
   "source": [
    "temp = temp.merge(aggregated_stats, on=['SEASON', 'DATE', 'TEAM', 'OPP_TEAM'], how='left')"
   ]
  },
  {
   "cell_type": "code",
   "execution_count": 130,
   "metadata": {},
   "outputs": [],
   "source": [
    "temp['POSS'] = temp['IMPLIED_POSS'] * (temp['IMPLIED_TEAM_POSS'] + temp['IMPLIED_OPP_TEAM_POSS'])/(2*temp['IMPLIED_TEAM_POSS'])"
   ]
  },
  {
   "cell_type": "code",
   "execution_count": 131,
   "metadata": {},
   "outputs": [],
   "source": [
    "aggregated_stats = temp.groupby(['SEASON', 'DATE', 'TEAM', 'OPP_TEAM']).apply(\n",
    "    lambda x: pd.Series({\n",
    "        'TEAM_OREB_CHANCES': (x['OREB(CH)/POSS_REAL'] * x['POSS']).sum()/5,\n",
    "        'IMPLIED_TEAM_OREB': (x['OREB(CH)/POSS_REAL'] * x['POSS'] * x['OREB/CH_REAL']).sum(),\n",
    "        'IMPLIED_TEAM_DREB': (x['OPP_OREB(CH)/POSS_REAL'] * x['POSS'] * x['DREB/CH_REAL']).sum()\n",
    "    })\n",
    ").reset_index()\n",
    "\n",
    "opp_aggregated_stats = aggregated_stats.drop(columns=['OPP_TEAM'])\n",
    "opp_aggregated_stats = opp_aggregated_stats.rename(columns={\n",
    "    'TEAM': 'OPP_TEAM', 'TEAM_OREB_CHANCES': 'TEAM_DREB_CHANCES', 'IMPLIED_TEAM_OREB': 'IMPLIED_OPP_TEAM_OREB', 'IMPLIED_TEAM_DREB': 'IMPLIED_OPP_TEAM_DREB'\n",
    "    })\n",
    "aggregated_stats = aggregated_stats.merge(opp_aggregated_stats, on=['SEASON', 'DATE', 'OPP_TEAM'], how='left')\n",
    "\n",
    "aggregated_stats['IMPLIED_TEAM_OREB_CHANCES'] = aggregated_stats['IMPLIED_TEAM_OREB'] + aggregated_stats['IMPLIED_OPP_TEAM_DREB']\n",
    "aggregated_stats['IMPLIED_TEAM_DREB_CHANCES'] = aggregated_stats['IMPLIED_TEAM_DREB'] + aggregated_stats['IMPLIED_OPP_TEAM_OREB']"
   ]
  },
  {
   "cell_type": "code",
   "execution_count": 132,
   "metadata": {},
   "outputs": [],
   "source": [
    "temp = temp.merge(aggregated_stats, on=['SEASON', 'DATE', 'TEAM', 'OPP_TEAM'], how='left')"
   ]
  },
  {
   "cell_type": "code",
   "execution_count": 133,
   "metadata": {},
   "outputs": [],
   "source": [
    "temp['OREB/POSS'] = temp['OREB/CH_REAL'] * temp['OREB(CH)/POSS_REAL'] * (temp['TEAM_OREB_CHANCES']/temp['IMPLIED_TEAM_OREB_CHANCES'])\n",
    "temp['DREB/POSS'] = temp['DREB/CH_REAL'] * temp['OPP_OREB(CH)/POSS_REAL'] * (temp['TEAM_DREB_CHANCES']/temp['IMPLIED_TEAM_DREB_CHANCES'])"
   ]
  },
  {
   "cell_type": "code",
   "execution_count": 134,
   "metadata": {},
   "outputs": [],
   "source": [
    "aggregated_stats = temp.groupby(['SEASON', 'DATE', 'TEAM', 'OPP_TEAM']).apply(\n",
    "    lambda x: pd.Series({\n",
    "        'TEAM_POSS': x['POSS'].sum()/5,\n",
    "        'TEAM_OREB': (x['OREB/POSS'] * x['POSS']).sum(),\n",
    "        'TEAM_TOV': (x['TOV/POSS'] * x['POSS']).sum(),\n",
    "        'IMPLIED_TEAM_ATT': (x['ATT/POSS'] * x['POSS']).sum()\n",
    "    })\n",
    ").reset_index()"
   ]
  },
  {
   "cell_type": "code",
   "execution_count": 135,
   "metadata": {},
   "outputs": [],
   "source": [
    "temp = temp.merge(aggregated_stats, on=['SEASON', 'DATE', 'TEAM', 'OPP_TEAM'], how='left')"
   ]
  },
  {
   "cell_type": "code",
   "execution_count": 136,
   "metadata": {},
   "outputs": [],
   "source": [
    "temp['TEAM_ATT'] = temp['TEAM_POSS'] + temp['TEAM_OREB'] - temp['TEAM_TOV']\n",
    "temp['ATT/POSS_REAL'] = temp['ATT/POSS'] * (temp['TEAM_ATT']/temp['IMPLIED_TEAM_ATT'])"
   ]
  },
  {
   "cell_type": "code",
   "execution_count": 137,
   "metadata": {},
   "outputs": [],
   "source": [
    "temp['PTS/ATT_REAL'] = temp['PTS/ATT'] + temp['PTS/ATT_DEF']\n",
    "temp['PTS/POSS'] = temp['PTS/ATT_REAL'] * temp['ATT/POSS_REAL']"
   ]
  },
  {
   "cell_type": "code",
   "execution_count": 171,
   "metadata": {},
   "outputs": [],
   "source": [
    "final = temp.groupby(['SEASON', 'DATE', 'TEAM', 'OPP_TEAM']).apply(\n",
    "    lambda x: pd.Series({\n",
    "        'PRED_TEAM_PTS': (x['PTS/POSS'] * x['POSS']).sum() + 0.62\n",
    "    })\n",
    ").reset_index()"
   ]
  },
  {
   "cell_type": "code",
   "execution_count": 172,
   "metadata": {},
   "outputs": [],
   "source": [
    "opp_final = final.drop(columns=['OPP_TEAM'])\n",
    "opp_final = opp_final.rename(columns={\n",
    "    'TEAM': 'OPP_TEAM', 'PRED_TEAM_PTS': 'PRED_OPP_TEAM_PTS'\n",
    "    })\n",
    "final = final.merge(opp_final, on=['SEASON', 'DATE', 'OPP_TEAM'], how='left')"
   ]
  },
  {
   "cell_type": "code",
   "execution_count": 173,
   "metadata": {},
   "outputs": [],
   "source": [
    "real = boxscores.groupby(['SEASON', 'DATE', 'TEAM', 'OPP_TEAM']).apply(\n",
    "    lambda x: pd.Series({\n",
    "        'REAL_TEAM_PTS': x['PTS'].sum()\n",
    "    })\n",
    ").reset_index()\n",
    "\n",
    "opp_real = real.drop(columns=['OPP_TEAM'])\n",
    "opp_real = opp_real.rename(columns={\n",
    "    'TEAM': 'OPP_TEAM', 'REAL_TEAM_PTS': 'REAL_OPP_TEAM_PTS'\n",
    "    })\n",
    "real = real.merge(opp_real, on=['SEASON', 'DATE', 'OPP_TEAM'], how='left')"
   ]
  },
  {
   "cell_type": "code",
   "execution_count": 174,
   "metadata": {},
   "outputs": [],
   "source": [
    "vegas = query_data.query_odds_data()\n",
    "vegas = vegas.loc[vegas['PERIOD'] == 'Full Game']\n",
    "vegas = vegas.drop(columns=['PERIOD'])\n",
    "\n",
    "vegas['TOTAL'] = vegas['TOTAL'].replace(['-', 'PK'], np.nan)\n",
    "vegas['POINTSPREAD'] = vegas['POINTSPREAD'].replace(['-', 'PK'], 0)\n",
    "\n",
    "vegas['TOTAL'] = vegas['TOTAL'].astype(float)\n",
    "vegas['POINTSPREAD'] = vegas['POINTSPREAD'].astype(float)"
   ]
  },
  {
   "cell_type": "code",
   "execution_count": 175,
   "metadata": {},
   "outputs": [],
   "source": [
    "final = final.merge(real, on=['SEASON', 'DATE', 'TEAM', 'OPP_TEAM'])\n",
    "final = final.merge(vegas, on=['DATE', 'TEAM'])"
   ]
  },
  {
   "cell_type": "code",
   "execution_count": 177,
   "metadata": {},
   "outputs": [],
   "source": [
    "final['ONE'] = 1\n",
    "\n",
    "feature_creation = FeatureCreation()\n",
    "final = feature_creation.expanding_sum(\n",
    "    df=final, group_col_names=['SEASON', 'TEAM'], col_name='ONE', new_col_name='GP'\n",
    ")"
   ]
  },
  {
   "cell_type": "code",
   "execution_count": 245,
   "metadata": {},
   "outputs": [],
   "source": [
    "final['PRED_TOTAL'] = final['PRED_TEAM_PTS'] + final['PRED_OPP_TEAM_PTS']\n",
    "final['REAL_TOTAL'] = final['REAL_TEAM_PTS'] + final['REAL_OPP_TEAM_PTS']\n",
    "\n",
    "final['MODEL_TOTAL_ERROR'] = final['PRED_TOTAL'] - final['REAL_TOTAL']\n",
    "final['VEGAS_TOTAL_ERROR'] = final['TOTAL'] - final['REAL_TOTAL']"
   ]
  },
  {
   "cell_type": "code",
   "execution_count": null,
   "metadata": {},
   "outputs": [],
   "source": [
    "final['PRED_PS'] = -1*(final['PRED_TEAM_PTS'] - final['PRED_OPP_TEAM_PTS'])\n",
    "final['REAL_PS'] = -1*(final['REAL_TEAM_PTS'] - final['REAL_OPP_TEAM_PTS'])\n",
    "\n",
    "final['MODEL_PS_ERROR'] = final['PRED_PS'] - final['REAL_PS']\n",
    "final['VEGAS_PS_ERROR'] = final['POINTSPREAD'] - final['REAL_PS']"
   ]
  },
  {
   "cell_type": "code",
   "execution_count": 286,
   "metadata": {},
   "outputs": [],
   "source": [
    "real_final = final.loc[final['GP'] > 10]\n",
    "real_final = real_final.drop_duplicates(subset=['PRED_TOTAL'])"
   ]
  },
  {
   "cell_type": "code",
   "execution_count": 287,
   "metadata": {},
   "outputs": [
    {
     "name": "stdout",
     "output_type": "stream",
     "text": [
      "14.682760481436143\n",
      "14.1848\n"
     ]
    }
   ],
   "source": [
    "print(real_final['MODEL_TOTAL_ERROR'].abs().mean())\n",
    "print(real_final['VEGAS_TOTAL_ERROR'].abs().mean())"
   ]
  },
  {
   "cell_type": "code",
   "execution_count": 288,
   "metadata": {},
   "outputs": [
    {
     "name": "stdout",
     "output_type": "stream",
     "text": [
      "10.322759119700294\n",
      "9.56812729889653\n"
     ]
    }
   ],
   "source": [
    "print(real_final['MODEL_PS_ERROR'].abs().mean())\n",
    "print(real_final['VEGAS_PS_ERROR'].abs().mean())"
   ]
  },
  {
   "cell_type": "code",
   "execution_count": 299,
   "metadata": {},
   "outputs": [
    {
     "name": "stdout",
     "output_type": "stream",
     "text": [
      "14 6\n"
     ]
    }
   ],
   "source": [
    "blowout = real_final.loc[real_final['TOTAL'] > 240]\n",
    "print(len(blowout.loc[blowout['REAL_TOTAL'] < blowout['TOTAL']]), len(blowout.loc[blowout['REAL_TOTAL'] > blowout['TOTAL']]))"
   ]
  },
  {
   "cell_type": "code",
   "execution_count": 283,
   "metadata": {},
   "outputs": [
    {
     "name": "stdout",
     "output_type": "stream",
     "text": [
      "1720\n",
      "1682\n",
      "1719\n",
      "1735\n",
      "6859\n"
     ]
    }
   ],
   "source": [
    "print(len(final.loc[(final['POINTSPREAD'] < 0) & (final['REAL_TOTAL'] > final['TOTAL']) & (final['REAL_PS'] > final['POINTSPREAD'])]))\n",
    "print(len(final.loc[(final['POINTSPREAD'] < 0) & (final['REAL_TOTAL'] > final['TOTAL']) & (final['REAL_PS'] < final['POINTSPREAD'])]))\n",
    "print(len(final.loc[(final['POINTSPREAD'] < 0) & (final['REAL_TOTAL'] < final['TOTAL']) & (final['REAL_PS'] > final['POINTSPREAD'])]))\n",
    "print(len(final.loc[(final['POINTSPREAD'] < 0) & (final['REAL_TOTAL'] < final['TOTAL']) & (final['REAL_PS'] < final['POINTSPREAD'])]))\n",
    "print(len(final.loc[(final['POINTSPREAD'] < 0) & (final['REAL_TOTAL'] != final['TOTAL']) & (final['REAL_PS'] != final['POINTSPREAD'])]))"
   ]
  },
  {
   "cell_type": "code",
   "execution_count": 284,
   "metadata": {},
   "outputs": [
    {
     "name": "stdout",
     "output_type": "stream",
     "text": [
      "198 459\n",
      "350 301\n",
      "0.5376344086021505\n"
     ]
    }
   ],
   "source": [
    "test = real_final.loc[(real_final['PRED_TOTAL'] - real_final['TOTAL']).abs() > 5]\n",
    "\n",
    "print(len(test.loc[test['PRED_TOTAL'] > test['TOTAL']]), len(test.loc[test['PRED_TOTAL'] < test['TOTAL']]))\n",
    "\n",
    "test['MODEL_CORRECT_ON_TOTAL'] = test.apply(lambda row: np.sign((row['REAL_TOTAL'] - row['TOTAL']) * (row['PRED_TOTAL'] - row['TOTAL'])), axis=1)\n",
    "print(len(test.loc[test['MODEL_CORRECT_ON_TOTAL'] == 1]), len(test.loc[test['MODEL_CORRECT_ON_TOTAL'] == -1]))\n",
    "print(len(test.loc[test['MODEL_CORRECT_ON_TOTAL'] == 1])/(len(test.loc[test['MODEL_CORRECT_ON_TOTAL'] == 1]) + len(test.loc[test['MODEL_CORRECT_ON_TOTAL'] == -1])))"
   ]
  },
  {
   "cell_type": "code",
   "execution_count": 285,
   "metadata": {},
   "outputs": [
    {
     "name": "stdout",
     "output_type": "stream",
     "text": [
      "336 316\n",
      "0.5153374233128835\n"
     ]
    }
   ],
   "source": [
    "test = real_final.loc[(real_final['PRED_PS'] - real_final['POINTSPREAD']).abs() > 5]\n",
    "\n",
    "test['MODEL_CORRECT_ON_PS'] = test.apply(lambda row: np.sign((row['REAL_PS'] - row['POINTSPREAD']) * (row['PRED_PS'] - row['POINTSPREAD'])), axis=1)\n",
    "print(len(test.loc[test['MODEL_CORRECT_ON_PS'] == 1]), len(test.loc[test['MODEL_CORRECT_ON_PS'] == -1]))\n",
    "print(len(test.loc[test['MODEL_CORRECT_ON_PS'] == 1])/(len(test.loc[test['MODEL_CORRECT_ON_PS'] == 1]) + len(test.loc[test['MODEL_CORRECT_ON_PS'] == -1])))"
   ]
  },
  {
   "cell_type": "code",
   "execution_count": 259,
   "metadata": {},
   "outputs": [
    {
     "data": {
      "text/html": [
       "<div>\n",
       "<style scoped>\n",
       "    .dataframe tbody tr th:only-of-type {\n",
       "        vertical-align: middle;\n",
       "    }\n",
       "\n",
       "    .dataframe tbody tr th {\n",
       "        vertical-align: top;\n",
       "    }\n",
       "\n",
       "    .dataframe thead th {\n",
       "        text-align: right;\n",
       "    }\n",
       "</style>\n",
       "<table border=\"1\" class=\"dataframe\">\n",
       "  <thead>\n",
       "    <tr style=\"text-align: right;\">\n",
       "      <th></th>\n",
       "      <th>SEASON</th>\n",
       "      <th>TEAM</th>\n",
       "      <th>DATE</th>\n",
       "      <th>OPP_TEAM</th>\n",
       "      <th>PRED_TEAM_PTS</th>\n",
       "      <th>PRED_OPP_TEAM_PTS</th>\n",
       "      <th>REAL_TEAM_PTS</th>\n",
       "      <th>REAL_OPP_TEAM_PTS</th>\n",
       "      <th>POINTSPREAD</th>\n",
       "      <th>MONEYLINE</th>\n",
       "      <th>TOTAL</th>\n",
       "      <th>ONE</th>\n",
       "      <th>GP</th>\n",
       "      <th>PRED_TOTAL</th>\n",
       "      <th>REAL_TOTAL</th>\n",
       "      <th>MODEL_TOTAL_ERROR</th>\n",
       "      <th>VEGAS_TOTAL_ERROR</th>\n",
       "      <th>PRED_PS</th>\n",
       "      <th>REAL_PS</th>\n",
       "      <th>MODEL_PS_ERROR</th>\n",
       "      <th>VEGAS_PS_ERROR</th>\n",
       "    </tr>\n",
       "  </thead>\n",
       "  <tbody>\n",
       "  </tbody>\n",
       "</table>\n",
       "</div>"
      ],
      "text/plain": [
       "Empty DataFrame\n",
       "Columns: [SEASON, TEAM, DATE, OPP_TEAM, PRED_TEAM_PTS, PRED_OPP_TEAM_PTS, REAL_TEAM_PTS, REAL_OPP_TEAM_PTS, POINTSPREAD, MONEYLINE, TOTAL, ONE, GP, PRED_TOTAL, REAL_TOTAL, MODEL_TOTAL_ERROR, VEGAS_TOTAL_ERROR, PRED_PS, REAL_PS, MODEL_PS_ERROR, VEGAS_PS_ERROR]\n",
       "Index: []"
      ]
     },
     "metadata": {},
     "output_type": "display_data"
    }
   ],
   "source": [
    "pd.set_option('display.max_columns', None)\n",
    "display(real_final.loc[real_final['POINTSPREAD'].isnull()])"
   ]
  },
  {
   "cell_type": "code",
   "execution_count": null,
   "metadata": {},
   "outputs": [],
   "source": []
  }
 ],
 "metadata": {
  "kernelspec": {
   "display_name": "venv",
   "language": "python",
   "name": "venv"
  },
  "language_info": {
   "codemirror_mode": {
    "name": "ipython",
    "version": 3
   },
   "file_extension": ".py",
   "mimetype": "text/x-python",
   "name": "python",
   "nbconvert_exporter": "python",
   "pygments_lexer": "ipython3",
   "version": "3.7.3"
  }
 },
 "nbformat": 4,
 "nbformat_minor": 4
}

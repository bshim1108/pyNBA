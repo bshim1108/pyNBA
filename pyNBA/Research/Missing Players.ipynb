{
 "cells": [
  {
   "cell_type": "code",
   "execution_count": 1,
   "metadata": {},
   "outputs": [
    {
     "output_type": "display_data",
     "data": {
      "text/plain": "<IPython.core.display.HTML object>",
      "text/html": "<style>.container { width:90% !important; }</style>"
     },
     "metadata": {}
    }
   ],
   "source": [
    "import time\n",
    "import requests\n",
    "import gspread\n",
    "import pandas as pd\n",
    "from datetime import datetime\n",
    "from bs4 import BeautifulSoup\n",
    "from pyNBA.Data.helpers import Helpers\n",
    "from pyNBA.Data.constants import CURRENT_SEASON, UNKNOWN_PLAYERS\n",
    "from nba_api.stats.endpoints import CommonTeamRoster\n",
    "from nba_api.stats.static.teams import find_team_by_abbreviation\n",
    "\n",
    "import warnings\n",
    "warnings.filterwarnings('ignore')\n",
    "from IPython.core.display import display, HTML\n",
    "display(HTML(\"<style>.container { width:90% !important; }</style>\"))"
   ]
  },
  {
   "cell_type": "code",
   "execution_count": 2,
   "metadata": {},
   "outputs": [
    {
     "output_type": "stream",
     "name": "stdout",
     "text": [
      "POR\n",
      "DET\n",
      "MIA\n",
      "IND\n",
      "DAL\n",
      "BOS\n",
      "HOU\n",
      "BKN\n",
      "NYK\n",
      "MIN\n",
      "TOR\n",
      "OKC\n",
      "UTA\n",
      "MEM\n",
      "SAC\n",
      "SAS\n",
      "MIL\n",
      "LAL\n",
      "CHI\n",
      "PHX\n"
     ]
    }
   ],
   "source": [
    "helpers = Helpers()\n",
    "\n",
    "team_to_opp_team = {}\n",
    "team_to_status = {}\n",
    "\n",
    "current_player_data = pd.DataFrame(columns=[\n",
    "    'TEAM', 'NAME', 'START', 'PLAYERSTATUS', 'PLAYERCHANCE'\n",
    "])\n",
    "\n",
    "URL = 'https://www.rotowire.com/basketball/nba-lineups.php'\n",
    "page = requests.get(URL)\n",
    "soup = BeautifulSoup(page.content, 'html.parser')\n",
    "\n",
    "games = soup.find_all('div', class_='lineup is-nba')\n",
    "for game in games:\n",
    "    away_team = game.find('a', class_='lineup__team is-visit').find('div', class_='lineup__abbr').text\n",
    "    away_team = helpers.prepare_team(away_team)\n",
    "    away_lineup = game.find('ul', class_='lineup__list is-visit')\n",
    "    away_player_data, away_lineup_status = helpers.get_player_data(away_lineup)\n",
    "    away_player_data['TEAM'] = away_team\n",
    "    away_player_data['NAME'] = away_player_data['NAME'].apply(lambda x: helpers.prepare_name(x, away_team))\n",
    "\n",
    "    home_team = game.find('a', class_='lineup__team is-home').find('div', class_='lineup__abbr').text\n",
    "    home_team = helpers.prepare_team(home_team)\n",
    "    home_lineup = game.find('ul', class_='lineup__list is-home')\n",
    "    home_player_data, home_lineup_status = helpers.get_player_data(home_lineup)\n",
    "    home_player_data['TEAM'] = home_team\n",
    "    home_player_data['NAME'] = home_player_data['NAME'].apply(lambda x: helpers.prepare_name(x, home_team))\n",
    "\n",
    "    team_to_opp_team[away_team] = home_team\n",
    "    team_to_opp_team[home_team] = away_team\n",
    "    team_to_status[away_team] = away_lineup_status\n",
    "    team_to_status[home_team] = home_lineup_status\n",
    "\n",
    "    current_player_data = current_player_data.append(away_player_data)\n",
    "    current_player_data = current_player_data.append(home_player_data)\n",
    "\n",
    "current_player_data = current_player_data.loc[\n",
    "    ~current_player_data['NAME'].isin(UNKNOWN_PLAYERS)\n",
    "]\n",
    "\n",
    "roster_data = pd.DataFrame()\n",
    "for team_abbreviation in current_player_data['TEAM'].unique():\n",
    "    print(team_abbreviation)\n",
    "    team = find_team_by_abbreviation(team_abbreviation)\n",
    "    team_id = team['id']\n",
    "\n",
    "    roster = CommonTeamRoster(season=CURRENT_SEASON, team_id=team_id).get_data_frames()[0]\n",
    "    time.sleep(0.500)\n",
    "\n",
    "    roster['TEAM'] = team['abbreviation']\n",
    "\n",
    "    roster_data = roster_data.append(roster)\n",
    "\n",
    "roster_data = roster_data.rename(columns={'TeamID': 'TEAMID', 'PLAYER_ID': 'PLAYERID', 'PLAYER': 'NAME'})\n",
    "\n",
    "roster_data['POSITION'] = roster_data['POSITION'].str.replace('G', 'Guard')\n",
    "roster_data['POSITION'] = roster_data['POSITION'].str.replace('F', 'Forward')\n",
    "roster_data['POSITION'] = roster_data['POSITION'].str.replace('C', 'Center')\n",
    "\n",
    "current_data = roster_data.merge(current_player_data, on=['NAME', 'TEAM'], how='left')\n",
    "\n",
    "current_data['LINEUPSTATUS'] = current_data['TEAM'].apply(lambda x: team_to_status[x])\n",
    "current_data['OPP_TEAM'] = current_data['TEAM'].apply(lambda x: team_to_opp_team[x])\n",
    "\n",
    "current_data['START'] = current_data['START'].fillna(0)\n",
    "current_data['PLAYERSTATUS'] = current_data['PLAYERSTATUS'].fillna('Healthy')\n",
    "current_data['PLAYERCHANCE'] = current_data['PLAYERCHANCE'].fillna(100)\n",
    "current_data['SEASON'] = CURRENT_SEASON\n",
    "\n",
    "current_data = current_data[[\n",
    "    'SEASON', 'LINEUPSTATUS', 'PLAYERID', 'TEAM', 'OPP_TEAM', 'NAME', 'POSITION',\n",
    "    'START', 'PLAYERSTATUS', 'PLAYERCHANCE'\n",
    "    ]]"
   ]
  },
  {
   "cell_type": "code",
   "execution_count": 3,
   "metadata": {},
   "outputs": [],
   "source": [
    "missing_players = current_player_data.loc[\n",
    "    ~current_player_data['NAME'].isin(roster_data['NAME'].unique())\n",
    "    ]['NAME'].unique()"
   ]
  },
  {
   "cell_type": "code",
   "execution_count": 4,
   "metadata": {},
   "outputs": [
    {
     "output_type": "stream",
     "name": "stdout",
     "text": [
      "[]\n"
     ]
    }
   ],
   "source": [
    "print(missing_players)"
   ]
  },
  {
   "cell_type": "code",
   "execution_count": 5,
   "metadata": {
    "scrolled": false
   },
   "outputs": [],
   "source": [
    "for i in missing_players:\n",
    "    last = i.split()[1]\n",
    "    print('------------------------------------------------------------------------------------------------------------------------')\n",
    "    print(last)\n",
    "    display(roster_data.loc[roster_data['NAME'].str.contains(last)])\n",
    "    print('------------------------------------------------------------------------------------------------------------------------')"
   ]
  },
  {
   "cell_type": "code",
   "execution_count": null,
   "metadata": {},
   "outputs": [],
   "source": []
  }
 ],
 "metadata": {
  "kernelspec": {
   "display_name": "Python 3.9.2 64-bit ('venv': venv)",
   "language": "python",
   "name": "python39264bitvenvvenvc591ed29d13e45c2aa0d5bd3ede2ed76"
  },
  "language_info": {
   "codemirror_mode": {
    "name": "ipython",
    "version": 3
   },
   "file_extension": ".py",
   "mimetype": "text/x-python",
   "name": "python",
   "nbconvert_exporter": "python",
   "pygments_lexer": "ipython3",
   "version": "3.9.2-final"
  }
 },
 "nbformat": 4,
 "nbformat_minor": 4
}
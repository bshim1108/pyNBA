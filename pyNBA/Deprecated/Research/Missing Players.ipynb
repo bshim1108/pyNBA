{
 "cells": [
  {
   "cell_type": "code",
   "execution_count": 1,
   "metadata": {},
   "outputs": [
    {
     "output_type": "display_data",
     "data": {
      "text/plain": "<IPython.core.display.HTML object>",
      "text/html": "<style>.container { width:90% !important; }</style>"
     },
     "metadata": {}
    }
   ],
   "source": [
    "import time\n",
    "import requests\n",
    "import gspread\n",
    "import pandas as pd\n",
    "from datetime import datetime\n",
    "from bs4 import BeautifulSoup\n",
    "from pyNBA.Data.helpers import Helpers\n",
    "from pyNBA.Data.constants import CURRENT_SEASON, UNKNOWN_PLAYERS\n",
    "from nba_api.stats.endpoints import CommonTeamRoster\n",
    "from nba_api.stats.static.teams import find_team_by_abbreviation\n",
    "\n",
    "import warnings\n",
    "warnings.filterwarnings('ignore')\n",
    "from IPython.core.display import display, HTML\n",
    "display(HTML(\"<style>.container { width:90% !important; }</style>\"))"
   ]
  },
  {
   "cell_type": "code",
   "execution_count": 2,
   "metadata": {},
   "outputs": [
    {
     "output_type": "stream",
     "name": "stdout",
     "text": [
      "IND\n",
      "ORL\n",
      "MIN\n",
      "BOS\n",
      "MEM\n",
      "NYK\n",
      "CHI\n",
      "ATL\n",
      "PHI\n",
      "NOP\n",
      "SAS\n",
      "DEN\n",
      "CHA\n",
      "MIL\n",
      "WAS\n",
      "GSW\n",
      "HOU\n",
      "LAC\n"
     ]
    }
   ],
   "source": [
    "helpers = Helpers()\n",
    "\n",
    "team_to_opp_team = {}\n",
    "team_to_status = {}\n",
    "\n",
    "current_player_data = pd.DataFrame(columns=[\n",
    "    'TEAM', 'NAME', 'START', 'PLAYERSTATUS', 'PLAYERCHANCE'\n",
    "])\n",
    "\n",
    "URL = 'https://www.rotowire.com/basketball/nba-lineups.php'\n",
    "page = requests.get(URL)\n",
    "soup = BeautifulSoup(page.content, 'html.parser')\n",
    "\n",
    "games = soup.find_all('div', class_='lineup is-nba')\n",
    "for game in games:\n",
    "    away_team = game.find('a', class_='lineup__team is-visit').find('div', class_='lineup__abbr').text\n",
    "    away_team = helpers.prepare_team(away_team)\n",
    "    away_lineup = game.find('ul', class_='lineup__list is-visit')\n",
    "    away_player_data, away_lineup_status = helpers.get_player_data(away_lineup)\n",
    "    away_player_data['TEAM'] = away_team\n",
    "    away_player_data['NAME'] = away_player_data['NAME'].apply(lambda x: helpers.prepare_name(x, away_team))\n",
    "\n",
    "    home_team = game.find('a', class_='lineup__team is-home').find('div', class_='lineup__abbr').text\n",
    "    home_team = helpers.prepare_team(home_team)\n",
    "    home_lineup = game.find('ul', class_='lineup__list is-home')\n",
    "    home_player_data, home_lineup_status = helpers.get_player_data(home_lineup)\n",
    "    home_player_data['TEAM'] = home_team\n",
    "    home_player_data['NAME'] = home_player_data['NAME'].apply(lambda x: helpers.prepare_name(x, home_team))\n",
    "\n",
    "    team_to_opp_team[away_team] = home_team\n",
    "    team_to_opp_team[home_team] = away_team\n",
    "    team_to_status[away_team] = away_lineup_status\n",
    "    team_to_status[home_team] = home_lineup_status\n",
    "\n",
    "    current_player_data = current_player_data.append(away_player_data)\n",
    "    current_player_data = current_player_data.append(home_player_data)\n",
    "\n",
    "current_player_data = current_player_data.loc[\n",
    "    ~current_player_data['NAME'].isin(UNKNOWN_PLAYERS)\n",
    "]\n",
    "\n",
    "roster_data = pd.DataFrame()\n",
    "for team_abbreviation in current_player_data['TEAM'].unique():\n",
    "    print(team_abbreviation)\n",
    "    team = find_team_by_abbreviation(team_abbreviation)\n",
    "    team_id = team['id']\n",
    "\n",
    "    roster = CommonTeamRoster(season=CURRENT_SEASON, team_id=team_id).get_data_frames()[0]\n",
    "    time.sleep(0.500)\n",
    "\n",
    "    roster['TEAM'] = team['abbreviation']\n",
    "\n",
    "    roster_data = roster_data.append(roster)\n",
    "\n",
    "roster_data = roster_data.rename(columns={'TeamID': 'TEAMID', 'PLAYER_ID': 'PLAYERID', 'PLAYER': 'NAME'})\n",
    "\n",
    "roster_data['POSITION'] = roster_data['POSITION'].str.replace('G', 'Guard')\n",
    "roster_data['POSITION'] = roster_data['POSITION'].str.replace('F', 'Forward')\n",
    "roster_data['POSITION'] = roster_data['POSITION'].str.replace('C', 'Center')\n",
    "\n",
    "current_data = roster_data.merge(current_player_data, on=['NAME', 'TEAM'], how='left')\n",
    "\n",
    "current_data['LINEUPSTATUS'] = current_data['TEAM'].apply(lambda x: team_to_status[x])\n",
    "current_data['OPP_TEAM'] = current_data['TEAM'].apply(lambda x: team_to_opp_team[x])\n",
    "\n",
    "current_data['START'] = current_data['START'].fillna(0)\n",
    "current_data['PLAYERSTATUS'] = current_data['PLAYERSTATUS'].fillna('Healthy')\n",
    "current_data['PLAYERCHANCE'] = current_data['PLAYERCHANCE'].fillna(100)\n",
    "current_data['SEASON'] = CURRENT_SEASON\n",
    "\n",
    "current_data = current_data[[\n",
    "    'SEASON', 'LINEUPSTATUS', 'PLAYERID', 'TEAM', 'OPP_TEAM', 'NAME', 'POSITION',\n",
    "    'START', 'PLAYERSTATUS', 'PLAYERCHANCE'\n",
    "    ]]"
   ]
  },
  {
   "cell_type": "code",
   "execution_count": 3,
   "metadata": {},
   "outputs": [],
   "source": [
    "missing_players = current_player_data.loc[\n",
    "    ~current_player_data['NAME'].isin(roster_data['NAME'].unique())\n",
    "    ]['NAME'].unique()"
   ]
  },
  {
   "cell_type": "code",
   "execution_count": 4,
   "metadata": {},
   "outputs": [
    {
     "output_type": "stream",
     "name": "stdout",
     "text": [
      "['Shaquille Harrison' 'J. Bell' 'G. Payton']\n"
     ]
    }
   ],
   "source": [
    "print(missing_players)"
   ]
  },
  {
   "cell_type": "code",
   "execution_count": 5,
   "metadata": {
    "scrolled": false
   },
   "outputs": [
    {
     "output_type": "stream",
     "name": "stdout",
     "text": [
      "------------------------------------------------------------------------------------------------------------------------\nHarrison\n"
     ]
    },
    {
     "output_type": "display_data",
     "data": {
      "text/plain": "Empty DataFrame\nColumns: [TEAMID, SEASON, LeagueID, NAME, PLAYER_SLUG, NUM, POSITION, HEIGHT, WEIGHT, BIRTH_DATE, AGE, EXP, SCHOOL, PLAYERID, TEAM]\nIndex: []",
      "text/html": "<div>\n<style scoped>\n    .dataframe tbody tr th:only-of-type {\n        vertical-align: middle;\n    }\n\n    .dataframe tbody tr th {\n        vertical-align: top;\n    }\n\n    .dataframe thead th {\n        text-align: right;\n    }\n</style>\n<table border=\"1\" class=\"dataframe\">\n  <thead>\n    <tr style=\"text-align: right;\">\n      <th></th>\n      <th>TEAMID</th>\n      <th>SEASON</th>\n      <th>LeagueID</th>\n      <th>NAME</th>\n      <th>PLAYER_SLUG</th>\n      <th>NUM</th>\n      <th>POSITION</th>\n      <th>HEIGHT</th>\n      <th>WEIGHT</th>\n      <th>BIRTH_DATE</th>\n      <th>AGE</th>\n      <th>EXP</th>\n      <th>SCHOOL</th>\n      <th>PLAYERID</th>\n      <th>TEAM</th>\n    </tr>\n  </thead>\n  <tbody>\n  </tbody>\n</table>\n</div>"
     },
     "metadata": {}
    },
    {
     "output_type": "stream",
     "name": "stdout",
     "text": [
      "------------------------------------------------------------------------------------------------------------------------\n------------------------------------------------------------------------------------------------------------------------\nBell\n"
     ]
    },
    {
     "output_type": "display_data",
     "data": {
      "text/plain": "Empty DataFrame\nColumns: [TEAMID, SEASON, LeagueID, NAME, PLAYER_SLUG, NUM, POSITION, HEIGHT, WEIGHT, BIRTH_DATE, AGE, EXP, SCHOOL, PLAYERID, TEAM]\nIndex: []",
      "text/html": "<div>\n<style scoped>\n    .dataframe tbody tr th:only-of-type {\n        vertical-align: middle;\n    }\n\n    .dataframe tbody tr th {\n        vertical-align: top;\n    }\n\n    .dataframe thead th {\n        text-align: right;\n    }\n</style>\n<table border=\"1\" class=\"dataframe\">\n  <thead>\n    <tr style=\"text-align: right;\">\n      <th></th>\n      <th>TEAMID</th>\n      <th>SEASON</th>\n      <th>LeagueID</th>\n      <th>NAME</th>\n      <th>PLAYER_SLUG</th>\n      <th>NUM</th>\n      <th>POSITION</th>\n      <th>HEIGHT</th>\n      <th>WEIGHT</th>\n      <th>BIRTH_DATE</th>\n      <th>AGE</th>\n      <th>EXP</th>\n      <th>SCHOOL</th>\n      <th>PLAYERID</th>\n      <th>TEAM</th>\n    </tr>\n  </thead>\n  <tbody>\n  </tbody>\n</table>\n</div>"
     },
     "metadata": {}
    },
    {
     "output_type": "stream",
     "name": "stdout",
     "text": [
      "------------------------------------------------------------------------------------------------------------------------\n------------------------------------------------------------------------------------------------------------------------\nPayton\n"
     ]
    },
    {
     "output_type": "display_data",
     "data": {
      "text/plain": "       TEAMID SEASON LeagueID              NAME       PLAYER_SLUG NUM  \\\n4  1610612738   2020       00  Payton Pritchard  payton-pritchard  11   \n5  1610612752   2020       00     Elfrid Payton     elfrid-payton   6   \n9  1610612744   2020       00    Gary Payton II    gary-payton-ii  20   \n\n  POSITION HEIGHT WEIGHT    BIRTH_DATE   AGE EXP              SCHOOL  \\\n4    Guard    6-1    195  JAN 28, 1998  23.0   R              Oregon   \n5    Guard    6-3    195  FEB 22, 1994  27.0   6  Louisana-Lafayette   \n9    Guard    6-3    195  DEC 01, 1992  28.0   4        Oregon State   \n\n   PLAYERID TEAM  \n4   1630202  BOS  \n5    203901  NYK  \n9   1627780  GSW  ",
      "text/html": "<div>\n<style scoped>\n    .dataframe tbody tr th:only-of-type {\n        vertical-align: middle;\n    }\n\n    .dataframe tbody tr th {\n        vertical-align: top;\n    }\n\n    .dataframe thead th {\n        text-align: right;\n    }\n</style>\n<table border=\"1\" class=\"dataframe\">\n  <thead>\n    <tr style=\"text-align: right;\">\n      <th></th>\n      <th>TEAMID</th>\n      <th>SEASON</th>\n      <th>LeagueID</th>\n      <th>NAME</th>\n      <th>PLAYER_SLUG</th>\n      <th>NUM</th>\n      <th>POSITION</th>\n      <th>HEIGHT</th>\n      <th>WEIGHT</th>\n      <th>BIRTH_DATE</th>\n      <th>AGE</th>\n      <th>EXP</th>\n      <th>SCHOOL</th>\n      <th>PLAYERID</th>\n      <th>TEAM</th>\n    </tr>\n  </thead>\n  <tbody>\n    <tr>\n      <th>4</th>\n      <td>1610612738</td>\n      <td>2020</td>\n      <td>00</td>\n      <td>Payton Pritchard</td>\n      <td>payton-pritchard</td>\n      <td>11</td>\n      <td>Guard</td>\n      <td>6-1</td>\n      <td>195</td>\n      <td>JAN 28, 1998</td>\n      <td>23.0</td>\n      <td>R</td>\n      <td>Oregon</td>\n      <td>1630202</td>\n      <td>BOS</td>\n    </tr>\n    <tr>\n      <th>5</th>\n      <td>1610612752</td>\n      <td>2020</td>\n      <td>00</td>\n      <td>Elfrid Payton</td>\n      <td>elfrid-payton</td>\n      <td>6</td>\n      <td>Guard</td>\n      <td>6-3</td>\n      <td>195</td>\n      <td>FEB 22, 1994</td>\n      <td>27.0</td>\n      <td>6</td>\n      <td>Louisana-Lafayette</td>\n      <td>203901</td>\n      <td>NYK</td>\n    </tr>\n    <tr>\n      <th>9</th>\n      <td>1610612744</td>\n      <td>2020</td>\n      <td>00</td>\n      <td>Gary Payton II</td>\n      <td>gary-payton-ii</td>\n      <td>20</td>\n      <td>Guard</td>\n      <td>6-3</td>\n      <td>195</td>\n      <td>DEC 01, 1992</td>\n      <td>28.0</td>\n      <td>4</td>\n      <td>Oregon State</td>\n      <td>1627780</td>\n      <td>GSW</td>\n    </tr>\n  </tbody>\n</table>\n</div>"
     },
     "metadata": {}
    },
    {
     "output_type": "stream",
     "name": "stdout",
     "text": [
      "------------------------------------------------------------------------------------------------------------------------\n"
     ]
    }
   ],
   "source": [
    "for i in missing_players:\n",
    "    last = i.split()[1]\n",
    "    print('------------------------------------------------------------------------------------------------------------------------')\n",
    "    print(last)\n",
    "    display(roster_data.loc[roster_data['NAME'].str.contains(last)])\n",
    "    print('------------------------------------------------------------------------------------------------------------------------')"
   ]
  },
  {
   "cell_type": "code",
   "execution_count": null,
   "metadata": {},
   "outputs": [],
   "source": []
  }
 ],
 "metadata": {
  "kernelspec": {
   "name": "python39264bitvenv812417c3168c4b25a020379889daceb5",
   "display_name": "Python 3.9.2 64-bit ('venv')"
  },
  "language_info": {
   "codemirror_mode": {
    "name": "ipython",
    "version": 3
   },
   "file_extension": ".py",
   "mimetype": "text/x-python",
   "name": "python",
   "nbconvert_exporter": "python",
   "pygments_lexer": "ipython3",
   "version": "3.9.2-final"
  },
  "metadata": {
   "interpreter": {
    "hash": "e1841a330a20ba5cd3254ed88768fe4c6760696aeb2fd4a84f299ae635ca7989"
   }
  }
 },
 "nbformat": 4,
 "nbformat_minor": 4
}